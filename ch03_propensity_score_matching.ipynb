{
 "cells": [
  {
   "cell_type": "markdown",
   "id": "ade6aec9-d231-4442-8eee-56773b2acbcb",
   "metadata": {},
   "source": [
    "# 3.2 傾向スコアを利用した効果の推定"
   ]
  },
  {
   "cell_type": "code",
   "execution_count": 11,
   "id": "1a74ec4c-d734-49da-9aca-83dd536212f2",
   "metadata": {},
   "outputs": [],
   "source": [
    "import random\n",
    "import warnings\n",
    "\n",
    "import matplotlib.pyplot as plt\n",
    "import numpy as np\n",
    "import pandas as pd\n",
    "import rdata\n",
    "import seaborn as sns\n",
    "from sklearn.model_selection import train_test_split\n",
    "import statsmodels.api as sm\n",
    "import statsmodels.formula.api as smf\n",
    "\n",
    "warnings.simplefilter(\"ignore\")"
   ]
  },
  {
   "cell_type": "markdown",
   "id": "fae34ea8-317f-4a4c-b155-67ee34fe7b1f",
   "metadata": {
    "jp-MarkdownHeadingCollapsed": true,
    "tags": []
   },
   "source": [
    "## バイアスのあるデータの準備"
   ]
  },
  {
   "cell_type": "code",
   "execution_count": 2,
   "id": "2dd28e54-7497-440e-bfe5-24f8fe79aee3",
   "metadata": {},
   "outputs": [
    {
     "data": {
      "text/plain": [
       "(31961, 13)"
      ]
     },
     "execution_count": 2,
     "metadata": {},
     "output_type": "execute_result"
    }
   ],
   "source": [
    "data_biased = pd.read_csv(\"data_biased_cibook.csv\")\n",
    "data_biased.shape"
   ]
  },
  {
   "cell_type": "code",
   "execution_count": 3,
   "id": "dea4646d-d983-4db4-9249-ced614d5cd28",
   "metadata": {},
   "outputs": [
    {
     "data": {
      "text/html": [
       "<div>\n",
       "<style scoped>\n",
       "    .dataframe tbody tr th:only-of-type {\n",
       "        vertical-align: middle;\n",
       "    }\n",
       "\n",
       "    .dataframe tbody tr th {\n",
       "        vertical-align: top;\n",
       "    }\n",
       "\n",
       "    .dataframe thead th {\n",
       "        text-align: right;\n",
       "    }\n",
       "</style>\n",
       "<table border=\"1\" class=\"dataframe\">\n",
       "  <thead>\n",
       "    <tr style=\"text-align: right;\">\n",
       "      <th></th>\n",
       "      <th>recency</th>\n",
       "      <th>history_segment</th>\n",
       "      <th>history</th>\n",
       "      <th>mens</th>\n",
       "      <th>womens</th>\n",
       "      <th>zip_code</th>\n",
       "      <th>newbie</th>\n",
       "      <th>channel</th>\n",
       "      <th>segment</th>\n",
       "      <th>visit</th>\n",
       "      <th>conversion</th>\n",
       "      <th>spend</th>\n",
       "      <th>treatment</th>\n",
       "    </tr>\n",
       "  </thead>\n",
       "  <tbody>\n",
       "    <tr>\n",
       "      <th>0</th>\n",
       "      <td>3</td>\n",
       "      <td>1) $0 - $100</td>\n",
       "      <td>58.13</td>\n",
       "      <td>1</td>\n",
       "      <td>0</td>\n",
       "      <td>Urban</td>\n",
       "      <td>1</td>\n",
       "      <td>Web</td>\n",
       "      <td>No E-Mail</td>\n",
       "      <td>1</td>\n",
       "      <td>0</td>\n",
       "      <td>0.0</td>\n",
       "      <td>0</td>\n",
       "    </tr>\n",
       "    <tr>\n",
       "      <th>1</th>\n",
       "      <td>9</td>\n",
       "      <td>1) $0 - $100</td>\n",
       "      <td>29.99</td>\n",
       "      <td>0</td>\n",
       "      <td>1</td>\n",
       "      <td>Surburban</td>\n",
       "      <td>1</td>\n",
       "      <td>Phone</td>\n",
       "      <td>No E-Mail</td>\n",
       "      <td>0</td>\n",
       "      <td>0</td>\n",
       "      <td>0.0</td>\n",
       "      <td>0</td>\n",
       "    </tr>\n",
       "    <tr>\n",
       "      <th>2</th>\n",
       "      <td>2</td>\n",
       "      <td>1) $0 - $100</td>\n",
       "      <td>29.99</td>\n",
       "      <td>0</td>\n",
       "      <td>1</td>\n",
       "      <td>Urban</td>\n",
       "      <td>1</td>\n",
       "      <td>Phone</td>\n",
       "      <td>No E-Mail</td>\n",
       "      <td>0</td>\n",
       "      <td>0</td>\n",
       "      <td>0.0</td>\n",
       "      <td>0</td>\n",
       "    </tr>\n",
       "  </tbody>\n",
       "</table>\n",
       "</div>"
      ],
      "text/plain": [
       "   recency history_segment  history  mens  womens   zip_code  newbie channel  \\\n",
       "0        3    1) $0 - $100    58.13     1       0      Urban       1     Web   \n",
       "1        9    1) $0 - $100    29.99     0       1  Surburban       1   Phone   \n",
       "2        2    1) $0 - $100    29.99     0       1      Urban       1   Phone   \n",
       "\n",
       "     segment  visit  conversion  spend  treatment  \n",
       "0  No E-Mail      1           0    0.0          0  \n",
       "1  No E-Mail      0           0    0.0          0  \n",
       "2  No E-Mail      0           0    0.0          0  "
      ]
     },
     "execution_count": 3,
     "metadata": {},
     "output_type": "execute_result"
    }
   ],
   "source": [
    "data_biased.head(3)"
   ]
  },
  {
   "cell_type": "markdown",
   "id": "7516bff3-572d-413b-aff2-212cc30bd0e8",
   "metadata": {
    "tags": []
   },
   "source": [
    "## 傾向スコアの推定"
   ]
  },
  {
   "cell_type": "code",
   "execution_count": 14,
   "id": "83cd9a67-a36a-47fe-b7a5-1982fc6f7eb0",
   "metadata": {},
   "outputs": [
    {
     "name": "stdout",
     "output_type": "stream",
     "text": [
      "data_biased_train.shape=(25568, 13), data_biased_test.shape=(6393, 13)\n"
     ]
    }
   ],
   "source": [
    "# trainとtestを分割\n",
    "data_biased_train, data_biased_test = train_test_split(data_biased, test_size=0.2, random_state=71, shuffle=True, stratify=data_biased.conversion)\n",
    "print(f\"{data_biased_train.shape=}, {data_biased_test.shape=}\")"
   ]
  },
  {
   "cell_type": "markdown",
   "id": "3c7adc74-c14b-4ebf-98d9-aeabfb4f58bd",
   "metadata": {},
   "source": [
    "### ロジスティック回帰"
   ]
  },
  {
   "cell_type": "code",
   "execution_count": 15,
   "id": "43a22664-2338-48a3-afe4-fef914550e18",
   "metadata": {},
   "outputs": [],
   "source": [
    "ps_model_lr = smf.glm(\n",
    "    formula='treatment ~ recency + history + channel',\n",
    "    data=data_biased_train,\n",
    "    family=sm.families.Binomial()  # 誤差構造 (二項分布)\n",
    ").fit()"
   ]
  },
  {
   "cell_type": "code",
   "execution_count": 23,
   "id": "c857ccb1-9dd6-44d0-a4e6-98b8483fb713",
   "metadata": {},
   "outputs": [
    {
     "name": "stdout",
     "output_type": "stream",
     "text": [
      "test_pred_lr.shape=(6393,)\n"
     ]
    }
   ],
   "source": [
    "test_pred_lr = ps_model_lr.predict(data_biased_test).values\n",
    "print(f\"{test_pred_lr.shape=}\")"
   ]
  },
  {
   "cell_type": "markdown",
   "id": "6b317169-31ff-4d6e-bf31-17814c21cfc5",
   "metadata": {
    "jp-MarkdownHeadingCollapsed": true,
    "tags": []
   },
   "source": [
    "### LightGBM"
   ]
  },
  {
   "cell_type": "code",
   "execution_count": 31,
   "id": "12a6373e-9116-407d-9285-d64437089365",
   "metadata": {},
   "outputs": [],
   "source": [
    "import lightgbm as lgb"
   ]
  },
  {
   "cell_type": "code",
   "execution_count": 26,
   "id": "27a5e710-d066-4da2-b812-a5f44ac0a11d",
   "metadata": {},
   "outputs": [
    {
     "name": "stdout",
     "output_type": "stream",
     "text": [
      "data_biased_X_tr.shape=(20454, 3), data_biased_X_val.shape=(5114, 3), data_biased_X_test.shape=(6393, 3)\n"
     ]
    }
   ],
   "source": [
    "data_biased_tr, data_biased_val = train_test_split(data_biased_train, test_size=0.2, random_state=71, shuffle=True, stratify=data_biased_train.conversion)\n",
    "data_biased_X_tr = data_biased_tr[[\"recency\", \"history\", \"channel\"]]\n",
    "data_biased_X_val = data_biased_val[[\"recency\", \"history\", \"channel\"]]\n",
    "data_biased_X_test = data_biased_test[[\"recency\", \"history\", \"channel\"]]\n",
    "\n",
    "print(f\"{data_biased_X_tr.shape=}, {data_biased_X_val.shape=}, {data_biased_X_test.shape=}\")"
   ]
  },
  {
   "cell_type": "code",
   "execution_count": 28,
   "id": "81ddd3e2-ea4b-49d9-b7d0-1a543ce00aa4",
   "metadata": {},
   "outputs": [
    {
     "name": "stdout",
     "output_type": "stream",
     "text": [
      "data_biased_y_tr.shape=(20454,), data_biased_y_val.shape=(5114,), data_biased_y_test.shape=(6393,)\n"
     ]
    }
   ],
   "source": [
    "data_biased_y_tr = data_biased_tr[\"treatment\"]\n",
    "data_biased_y_val = data_biased_val[\"treatment\"]\n",
    "data_biased_y_test = data_biased_test[\"treatment\"]\n",
    "\n",
    "print(f\"{data_biased_y_tr.shape=}, {data_biased_y_val.shape=}, {data_biased_y_test.shape=}\")"
   ]
  },
  {
   "cell_type": "code",
   "execution_count": 37,
   "id": "194c20d5-0398-4c17-81de-c1bf81fef573",
   "metadata": {},
   "outputs": [],
   "source": [
    "data_biased_X_tr[\"channel\"] = data_biased_X_tr[\"channel\"].astype(\"category\")\n",
    "data_biased_X_val[\"channel\"] = data_biased_X_val[\"channel\"].astype(\"category\")\n",
    "data_biased_X_test[\"channel\"] = data_biased_X_test[\"channel\"].astype(\"category\")"
   ]
  },
  {
   "cell_type": "code",
   "execution_count": 39,
   "id": "79fe446c-85ae-4925-85d9-60e51c3214cb",
   "metadata": {},
   "outputs": [
    {
     "name": "stdout",
     "output_type": "stream",
     "text": [
      "[LightGBM] [Info] Number of positive: 9857, number of negative: 10597\n",
      "[LightGBM] [Warning] Auto-choosing col-wise multi-threading, the overhead of testing was 0.000729 seconds.\n",
      "You can set `force_col_wise=true` to remove the overhead.\n",
      "[LightGBM] [Info] Total Bins 272\n",
      "[LightGBM] [Info] Number of data points in the train set: 20454, number of used features: 3\n",
      "[LightGBM] [Info] [binary:BoostFromScore]: pavg=0.481911 -> initscore=-0.072389\n",
      "[LightGBM] [Info] Start training from score -0.072389\n",
      "Training until validation scores don't improve for 50 rounds\n",
      "[50]\ttraining's binary_logloss: 0.633291\tvalid_1's binary_logloss: 0.634372\n",
      "[100]\ttraining's binary_logloss: 0.626705\tvalid_1's binary_logloss: 0.636104\n",
      "Early stopping, best iteration is:\n",
      "[54]\ttraining's binary_logloss: 0.632674\tvalid_1's binary_logloss: 0.634141\n"
     ]
    }
   ],
   "source": [
    "lgb_train = lgb.Dataset(data_biased_X_tr, data_biased_y_tr)\n",
    "lgb_eval = lgb.Dataset(data_biased_X_val, data_biased_y_val, reference=lgb_train)\n",
    "\n",
    "params = {\n",
    "    \"boosting_type\": \"gbdt\",\n",
    "    \"objective\": \"binary\",\n",
    "    \"learning_rate\": 0.05,\n",
    "    \"nthread\": -1,\n",
    "    \"seed\": 42\n",
    "}\n",
    "\n",
    "model = lgb.train(\n",
    "        params, lgb_train,\n",
    "        valid_sets=[lgb_train, lgb_eval],\n",
    "        verbose_eval=50,\n",
    "        num_boost_round=50000,\n",
    "        early_stopping_rounds=50,\n",
    "    )"
   ]
  },
  {
   "cell_type": "code",
   "execution_count": 41,
   "id": "05834008-230a-4003-a05c-d9795e7ee9c9",
   "metadata": {},
   "outputs": [
    {
     "name": "stdout",
     "output_type": "stream",
     "text": [
      "test_pred_lgbm.shape=(6393,)\n"
     ]
    }
   ],
   "source": [
    "test_pred_lgbm = model.predict(data_biased_X_test, num_iteration=model.best_iteration)\n",
    "print(f\"{test_pred_lgbm.shape=}\")"
   ]
  },
  {
   "cell_type": "markdown",
   "id": "42ffcccb-b39a-48f3-96a6-3f1d402190ad",
   "metadata": {},
   "source": [
    "## 傾向スコアの分布"
   ]
  },
  {
   "cell_type": "code",
   "execution_count": 57,
   "id": "c9090993-04c0-4453-804b-4242f23187f7",
   "metadata": {},
   "outputs": [
    {
     "data": {
      "image/png": "[encoded data removed]",
      "text/plain": [
       "<Figure size 864x504 with 1 Axes>"
      ]
     },
     "metadata": {
      "image/png": {
       "height": 426,
       "width": 718
      },
      "needs_background": "light"
     },
     "output_type": "display_data"
    }
   ],
   "source": [
    "# Logistic Regression\n",
    "plt.figure(figsize=(12, 7))\n",
    "plt.hist(test_pred_lr[data_biased_y_test == 0], bins=64, alpha=0.7, color=\"tab:blue\", label=\"control\")\n",
    "plt.hist(test_pred_lr[data_biased_y_test == 1], bins=64, alpha=0.7, color=\"tab:orange\", label=\"treatment\")\n",
    "plt.legend()\n",
    "plt.xlim([0.0, 1.0])\n",
    "plt.title(\"Logistic Regression\")\n",
    "plt.show()"
   ]
  },
  {
   "cell_type": "code",
   "execution_count": 56,
   "id": "f5d92058-b218-447e-a198-f19140ea1ec5",
   "metadata": {},
   "outputs": [
    {
     "data": {
      "image/png": "[encoded data removed]",
      "text/plain": [
       "<Figure size 864x504 with 1 Axes>"
      ]
     },
     "metadata": {
      "image/png": {
       "height": 426,
       "width": 718
      },
      "needs_background": "light"
     },
     "output_type": "display_data"
    }
   ],
   "source": [
    "# Light GBM\n",
    "plt.figure(figsize=(12, 7))\n",
    "plt.hist(test_pred_lgbm[data_biased_y_test == 0], bins=64, alpha=0.7, color=\"tab:blue\", label=\"control\")\n",
    "plt.hist(test_pred_lgbm[data_biased_y_test == 1], bins=64, alpha=0.7, color=\"tab:orange\", label=\"treatment\")\n",
    "plt.legend()\n",
    "plt.xlim([0.0, 1.0])\n",
    "plt.title(\"LightGBM\")\n",
    "plt.show()"
   ]
  },
  {
   "cell_type": "markdown",
   "id": "d60a438b-c0f8-40de-9b6d-e18ad693194b",
   "metadata": {},
   "source": [
    "## 傾向スコアマッチング"
   ]
  },
  {
   "cell_type": "code",
   "execution_count": 59,
   "id": "0aa35c87-6a5c-4731-a732-573e88d2be26",
   "metadata": {},
   "outputs": [],
   "source": [
    "import pandas as pd\n",
    "\n",
    "class PropensityScoreMatching:\n",
    "    def __init__(self, treatment: pd.DataFrame, control: pd.DataFrame, pscore_col: str = \"pscore\") -> None:\n",
    "        self.treatment = treatment\n",
    "        self.control = control\n",
    "        self.pscore_col = pscore_col\n",
    "        self.match_idx = {}\n",
    "\n",
    "    def match(self) -> None:\n",
    "        threshold = pd.concat([self.treatment, self.control])[self.pscore_col].std() * 0.2  # see: https://www.slideshare.net/okumurayasuyuki/ss-43780294\n",
    "        match_pair_df = self.control.copy(deep=True)\n",
    "        for i in range(self.treatment.shape[0]):\n",
    "            matching_target = self.treatment.loc[i, self.pscore_col]\n",
    "            matched_pair = ((match_pair_df[self.pscore_col] - matching_target)**2).loc[lambda x: x < threshold]\n",
    "            if matched_pair.shape[0] != 0:  # マッチング対象が存在する場合\n",
    "                matched_pair = matched_pair.idxmin()\n",
    "                self.match_idx[i] = matched_pair\n",
    "\n",
    "                if i % 5000 == 1:\n",
    "                    print('Matching : [{}]. Propensity Score: {} Matched : [{}]. Propensity Score: {}'.format(\n",
    "                        i, matching_target, matched_pair, match_pair_df.loc[matched_pair, self.pscore_col]\n",
    "                    ))\n",
    "\n",
    "                match_pair_df = match_pair_df.drop(matched_pair)\n",
    "        print(\"Matched Ratio: {}\".format(len(self.match_idx.keys())/self.treatment.shape[0]))\n",
    "\n",
    "    def create_matched_df(self, target_col) -> pd.DataFrame:\n",
    "        if len(self.match_idx.keys()) == 0:\n",
    "            raise AttributeError(\"マッチングが行われていません。match()を呼び出した後に使ってください。\")\n",
    "\n",
    "        columns = ['idx', 'pscore', target_col, 'matched_idx', 'matched_pscore', 'matched_{}'.format(target_col)]\n",
    "        idx, pscore, target, matched_idx, matched_pscore, matched_target = [], [], [], [], [], []\n",
    "        for i, v in self.match_idx.items():\n",
    "            idx += [i]\n",
    "            pscore += [self.treatment.loc[i, self.pscore_col]]\n",
    "            target += [self.treatment.loc[i, target_col]]\n",
    "            matched_idx += [v]\n",
    "            matched_pscore += [self.control.loc[v, self.pscore_col]]\n",
    "            matched_target += [self.control.loc[v, target_col]]\n",
    "\n",
    "        matched_df = pd.DataFrame(data = {col: val for col, val in zip(columns, [idx, pscore, target, matched_idx, matched_pscore, matched_target])})\n",
    "        matched_df['diff'] = matched_df[target_col] - matched_df['matched_{}'.format(target_col)]\n",
    "        return matched_df"
   ]
  },
  {
   "cell_type": "code",
   "execution_count": 58,
   "id": "11604c9c-c7e8-4784-b9a7-fbbf1c96e333",
   "metadata": {},
   "outputs": [
    {
     "name": "stdout",
     "output_type": "stream",
     "text": [
      "data_biased_treatment.shape=(3096, 15), data_biased_control.shape=(3297, 15)\n"
     ]
    }
   ],
   "source": [
    "data_biased_test[\"pscore_lr\"] = test_pred_lr\n",
    "data_biased_test[\"pscore_lgbm\"] = test_pred_lgbm\n",
    "\n",
    "data_biased_treatment = data_biased_test[data_biased_test['treatment'] == 1].reset_index(drop=True)\n",
    "data_biased_control = data_biased_test[data_biased_test['treatment'] == 0].reset_index(drop=True)\n",
    "print(f\"{data_biased_treatment.shape=}, {data_biased_control.shape=}\")\n"
   ]
  },
  {
   "cell_type": "code",
   "execution_count": 61,
   "id": "2926bf64-f162-4bb2-9dc0-a809f02bed00",
   "metadata": {},
   "outputs": [
    {
     "name": "stdout",
     "output_type": "stream",
     "text": [
      "Matching : [1]. Propensity Score: 0.5328274263591385 Matched : [3095]. Propensity Score: 0.5328242150721398\n",
      "Matched Ratio: 0.8885658914728682\n"
     ]
    }
   ],
   "source": [
    "# Logistic Regression\n",
    "p_score_match_lr = PropensityScoreMatching(data_biased_treatment, data_biased_control, pscore_col=\"pscore_lr\")\n",
    "p_score_match_lr.match()"
   ]
  },
  {
   "cell_type": "code",
   "execution_count": 63,
   "id": "0ddfa08c-948e-46c7-97ad-c4e7d6e1e024",
   "metadata": {},
   "outputs": [
    {
     "name": "stdout",
     "output_type": "stream",
     "text": [
      "matched_data_lr.shape=(5502, 15)\n"
     ]
    },
    {
     "data": {
      "text/html": [
       "<div>\n",
       "<style scoped>\n",
       "    .dataframe tbody tr th:only-of-type {\n",
       "        vertical-align: middle;\n",
       "    }\n",
       "\n",
       "    .dataframe tbody tr th {\n",
       "        vertical-align: top;\n",
       "    }\n",
       "\n",
       "    .dataframe thead th {\n",
       "        text-align: right;\n",
       "    }\n",
       "</style>\n",
       "<table border=\"1\" class=\"dataframe\">\n",
       "  <thead>\n",
       "    <tr style=\"text-align: right;\">\n",
       "      <th></th>\n",
       "      <th>recency</th>\n",
       "      <th>history_segment</th>\n",
       "      <th>history</th>\n",
       "      <th>mens</th>\n",
       "      <th>womens</th>\n",
       "      <th>zip_code</th>\n",
       "      <th>newbie</th>\n",
       "      <th>channel</th>\n",
       "      <th>segment</th>\n",
       "      <th>visit</th>\n",
       "      <th>conversion</th>\n",
       "      <th>spend</th>\n",
       "      <th>treatment</th>\n",
       "      <th>pscore_lr</th>\n",
       "      <th>pscore_lgbm</th>\n",
       "    </tr>\n",
       "  </thead>\n",
       "  <tbody>\n",
       "    <tr>\n",
       "      <th>0</th>\n",
       "      <td>1</td>\n",
       "      <td>2) $100 - $200</td>\n",
       "      <td>198.78</td>\n",
       "      <td>0</td>\n",
       "      <td>1</td>\n",
       "      <td>Surburban</td>\n",
       "      <td>0</td>\n",
       "      <td>Web</td>\n",
       "      <td>Mens E-Mail</td>\n",
       "      <td>0</td>\n",
       "      <td>0</td>\n",
       "      <td>0.0</td>\n",
       "      <td>1</td>\n",
       "      <td>0.554365</td>\n",
       "      <td>0.677824</td>\n",
       "    </tr>\n",
       "    <tr>\n",
       "      <th>1</th>\n",
       "      <td>1</td>\n",
       "      <td>2) $100 - $200</td>\n",
       "      <td>123.71</td>\n",
       "      <td>0</td>\n",
       "      <td>1</td>\n",
       "      <td>Urban</td>\n",
       "      <td>0</td>\n",
       "      <td>Web</td>\n",
       "      <td>Mens E-Mail</td>\n",
       "      <td>0</td>\n",
       "      <td>0</td>\n",
       "      <td>0.0</td>\n",
       "      <td>1</td>\n",
       "      <td>0.532827</td>\n",
       "      <td>0.649793</td>\n",
       "    </tr>\n",
       "    <tr>\n",
       "      <th>2</th>\n",
       "      <td>2</td>\n",
       "      <td>2) $100 - $200</td>\n",
       "      <td>174.00</td>\n",
       "      <td>1</td>\n",
       "      <td>0</td>\n",
       "      <td>Surburban</td>\n",
       "      <td>1</td>\n",
       "      <td>Phone</td>\n",
       "      <td>Mens E-Mail</td>\n",
       "      <td>1</td>\n",
       "      <td>0</td>\n",
       "      <td>0.0</td>\n",
       "      <td>1</td>\n",
       "      <td>0.528890</td>\n",
       "      <td>0.668712</td>\n",
       "    </tr>\n",
       "    <tr>\n",
       "      <th>3</th>\n",
       "      <td>1</td>\n",
       "      <td>6) $750 - $1,000</td>\n",
       "      <td>831.55</td>\n",
       "      <td>0</td>\n",
       "      <td>1</td>\n",
       "      <td>Surburban</td>\n",
       "      <td>1</td>\n",
       "      <td>Web</td>\n",
       "      <td>Mens E-Mail</td>\n",
       "      <td>0</td>\n",
       "      <td>0</td>\n",
       "      <td>0.0</td>\n",
       "      <td>1</td>\n",
       "      <td>0.721150</td>\n",
       "      <td>0.670185</td>\n",
       "    </tr>\n",
       "    <tr>\n",
       "      <th>4</th>\n",
       "      <td>1</td>\n",
       "      <td>1) $0 - $100</td>\n",
       "      <td>29.99</td>\n",
       "      <td>0</td>\n",
       "      <td>1</td>\n",
       "      <td>Surburban</td>\n",
       "      <td>0</td>\n",
       "      <td>Web</td>\n",
       "      <td>Mens E-Mail</td>\n",
       "      <td>1</td>\n",
       "      <td>0</td>\n",
       "      <td>0.0</td>\n",
       "      <td>1</td>\n",
       "      <td>0.505776</td>\n",
       "      <td>0.656894</td>\n",
       "    </tr>\n",
       "  </tbody>\n",
       "</table>\n",
       "</div>"
      ],
      "text/plain": [
       "   recency   history_segment  history  mens  womens   zip_code  newbie  \\\n",
       "0        1    2) $100 - $200   198.78     0       1  Surburban       0   \n",
       "1        1    2) $100 - $200   123.71     0       1      Urban       0   \n",
       "2        2    2) $100 - $200   174.00     1       0  Surburban       1   \n",
       "3        1  6) $750 - $1,000   831.55     0       1  Surburban       1   \n",
       "4        1      1) $0 - $100    29.99     0       1  Surburban       0   \n",
       "\n",
       "  channel      segment  visit  conversion  spend  treatment  pscore_lr  \\\n",
       "0     Web  Mens E-Mail      0           0    0.0          1   0.554365   \n",
       "1     Web  Mens E-Mail      0           0    0.0          1   0.532827   \n",
       "2   Phone  Mens E-Mail      1           0    0.0          1   0.528890   \n",
       "3     Web  Mens E-Mail      0           0    0.0          1   0.721150   \n",
       "4     Web  Mens E-Mail      1           0    0.0          1   0.505776   \n",
       "\n",
       "   pscore_lgbm  \n",
       "0     0.677824  \n",
       "1     0.649793  \n",
       "2     0.668712  \n",
       "3     0.670185  \n",
       "4     0.656894  "
      ]
     },
     "metadata": {},
     "output_type": "display_data"
    }
   ],
   "source": [
    "matched_treatment_lr = data_biased_treatment.iloc[list(p_score_match_lr.create_matched_df('spend')['idx'].values)]\n",
    "matched_control_lr = data_biased_control.iloc[list(p_score_match_lr.create_matched_df('spend')['matched_idx'].values)]\n",
    "matched_data_lr = pd.concat([matched_treatment_lr, matched_control_lr])\n",
    "print(f\"{matched_data_lr.shape=}\")\n",
    "display(matched_data_lr.head())"
   ]
  },
  {
   "cell_type": "code",
   "execution_count": 65,
   "id": "796eb65f-541b-42be-9d52-bc69bcbf4dd8",
   "metadata": {},
   "outputs": [
    {
     "name": "stdout",
     "output_type": "stream",
     "text": [
      "Matching : [1]. Propensity Score: 0.649793393068791 Matched : [315]. Propensity Score: 0.649793393068791\n",
      "Matched Ratio: 0.6957364341085271\n"
     ]
    }
   ],
   "source": [
    "# LightGBM\n",
    "p_score_match_lgbm = PropensityScoreMatching(data_biased_treatment, data_biased_control, pscore_col=\"pscore_lgbm\")\n",
    "p_score_match_lgbm.match()"
   ]
  },
  {
   "cell_type": "code",
   "execution_count": 66,
   "id": "49af2697-c8b1-4cc2-b099-b5c27e91e08a",
   "metadata": {},
   "outputs": [
    {
     "name": "stdout",
     "output_type": "stream",
     "text": [
      "matched_data_lgbm.shape=(4308, 15)\n"
     ]
    },
    {
     "data": {
      "text/html": [
       "<div>\n",
       "<style scoped>\n",
       "    .dataframe tbody tr th:only-of-type {\n",
       "        vertical-align: middle;\n",
       "    }\n",
       "\n",
       "    .dataframe tbody tr th {\n",
       "        vertical-align: top;\n",
       "    }\n",
       "\n",
       "    .dataframe thead th {\n",
       "        text-align: right;\n",
       "    }\n",
       "</style>\n",
       "<table border=\"1\" class=\"dataframe\">\n",
       "  <thead>\n",
       "    <tr style=\"text-align: right;\">\n",
       "      <th></th>\n",
       "      <th>recency</th>\n",
       "      <th>history_segment</th>\n",
       "      <th>history</th>\n",
       "      <th>mens</th>\n",
       "      <th>womens</th>\n",
       "      <th>zip_code</th>\n",
       "      <th>newbie</th>\n",
       "      <th>channel</th>\n",
       "      <th>segment</th>\n",
       "      <th>visit</th>\n",
       "      <th>conversion</th>\n",
       "      <th>spend</th>\n",
       "      <th>treatment</th>\n",
       "      <th>pscore_lr</th>\n",
       "      <th>pscore_lgbm</th>\n",
       "    </tr>\n",
       "  </thead>\n",
       "  <tbody>\n",
       "    <tr>\n",
       "      <th>0</th>\n",
       "      <td>1</td>\n",
       "      <td>2) $100 - $200</td>\n",
       "      <td>198.78</td>\n",
       "      <td>0</td>\n",
       "      <td>1</td>\n",
       "      <td>Surburban</td>\n",
       "      <td>0</td>\n",
       "      <td>Web</td>\n",
       "      <td>Mens E-Mail</td>\n",
       "      <td>0</td>\n",
       "      <td>0</td>\n",
       "      <td>0.0</td>\n",
       "      <td>1</td>\n",
       "      <td>0.554365</td>\n",
       "      <td>0.677824</td>\n",
       "    </tr>\n",
       "    <tr>\n",
       "      <th>1</th>\n",
       "      <td>1</td>\n",
       "      <td>2) $100 - $200</td>\n",
       "      <td>123.71</td>\n",
       "      <td>0</td>\n",
       "      <td>1</td>\n",
       "      <td>Urban</td>\n",
       "      <td>0</td>\n",
       "      <td>Web</td>\n",
       "      <td>Mens E-Mail</td>\n",
       "      <td>0</td>\n",
       "      <td>0</td>\n",
       "      <td>0.0</td>\n",
       "      <td>1</td>\n",
       "      <td>0.532827</td>\n",
       "      <td>0.649793</td>\n",
       "    </tr>\n",
       "    <tr>\n",
       "      <th>2</th>\n",
       "      <td>2</td>\n",
       "      <td>2) $100 - $200</td>\n",
       "      <td>174.00</td>\n",
       "      <td>1</td>\n",
       "      <td>0</td>\n",
       "      <td>Surburban</td>\n",
       "      <td>1</td>\n",
       "      <td>Phone</td>\n",
       "      <td>Mens E-Mail</td>\n",
       "      <td>1</td>\n",
       "      <td>0</td>\n",
       "      <td>0.0</td>\n",
       "      <td>1</td>\n",
       "      <td>0.528890</td>\n",
       "      <td>0.668712</td>\n",
       "    </tr>\n",
       "    <tr>\n",
       "      <th>3</th>\n",
       "      <td>1</td>\n",
       "      <td>6) $750 - $1,000</td>\n",
       "      <td>831.55</td>\n",
       "      <td>0</td>\n",
       "      <td>1</td>\n",
       "      <td>Surburban</td>\n",
       "      <td>1</td>\n",
       "      <td>Web</td>\n",
       "      <td>Mens E-Mail</td>\n",
       "      <td>0</td>\n",
       "      <td>0</td>\n",
       "      <td>0.0</td>\n",
       "      <td>1</td>\n",
       "      <td>0.721150</td>\n",
       "      <td>0.670185</td>\n",
       "    </tr>\n",
       "    <tr>\n",
       "      <th>4</th>\n",
       "      <td>1</td>\n",
       "      <td>1) $0 - $100</td>\n",
       "      <td>29.99</td>\n",
       "      <td>0</td>\n",
       "      <td>1</td>\n",
       "      <td>Surburban</td>\n",
       "      <td>0</td>\n",
       "      <td>Web</td>\n",
       "      <td>Mens E-Mail</td>\n",
       "      <td>1</td>\n",
       "      <td>0</td>\n",
       "      <td>0.0</td>\n",
       "      <td>1</td>\n",
       "      <td>0.505776</td>\n",
       "      <td>0.656894</td>\n",
       "    </tr>\n",
       "  </tbody>\n",
       "</table>\n",
       "</div>"
      ],
      "text/plain": [
       "   recency   history_segment  history  mens  womens   zip_code  newbie  \\\n",
       "0        1    2) $100 - $200   198.78     0       1  Surburban       0   \n",
       "1        1    2) $100 - $200   123.71     0       1      Urban       0   \n",
       "2        2    2) $100 - $200   174.00     1       0  Surburban       1   \n",
       "3        1  6) $750 - $1,000   831.55     0       1  Surburban       1   \n",
       "4        1      1) $0 - $100    29.99     0       1  Surburban       0   \n",
       "\n",
       "  channel      segment  visit  conversion  spend  treatment  pscore_lr  \\\n",
       "0     Web  Mens E-Mail      0           0    0.0          1   0.554365   \n",
       "1     Web  Mens E-Mail      0           0    0.0          1   0.532827   \n",
       "2   Phone  Mens E-Mail      1           0    0.0          1   0.528890   \n",
       "3     Web  Mens E-Mail      0           0    0.0          1   0.721150   \n",
       "4     Web  Mens E-Mail      1           0    0.0          1   0.505776   \n",
       "\n",
       "   pscore_lgbm  \n",
       "0     0.677824  \n",
       "1     0.649793  \n",
       "2     0.668712  \n",
       "3     0.670185  \n",
       "4     0.656894  "
      ]
     },
     "metadata": {},
     "output_type": "display_data"
    }
   ],
   "source": [
    "matched_treatment_lgbm = data_biased_treatment.iloc[list(p_score_match_lgbm.create_matched_df('spend')['idx'].values)]\n",
    "matched_control_lgbm = data_biased_control.iloc[list(p_score_match_lgbm.create_matched_df('spend')['matched_idx'].values)]\n",
    "matched_data_lgbm = pd.concat([matched_treatment_lgbm, matched_control_lgbm])\n",
    "print(f\"{matched_data_lgbm.shape=}\")\n",
    "display(matched_data_lgbm.head())"
   ]
  },
  {
   "cell_type": "code",
   "execution_count": 64,
   "id": "103086f6-fd71-4070-bb31-fa5b3dbd2f0d",
   "metadata": {},
   "outputs": [
    {
     "data": {
      "text/html": [
       "<table class=\"simpletable\">\n",
       "<tr>\n",
       "      <td></td>         <th>coef</th>     <th>std err</th>      <th>t</th>      <th>P>|t|</th>  <th>[0.025</th>    <th>0.975]</th>  \n",
       "</tr>\n",
       "<tr>\n",
       "  <th>Intercept</th> <td>    0.5588</td> <td>    0.263</td> <td>    2.128</td> <td> 0.033</td> <td>    0.044</td> <td>    1.074</td>\n",
       "</tr>\n",
       "<tr>\n",
       "  <th>treatment</th> <td>    0.6059</td> <td>    0.371</td> <td>    1.632</td> <td> 0.103</td> <td>   -0.122</td> <td>    1.334</td>\n",
       "</tr>\n",
       "</table>"
      ],
      "text/plain": [
       "<class 'statsmodels.iolib.table.SimpleTable'>"
      ]
     },
     "execution_count": 64,
     "metadata": {},
     "output_type": "execute_result"
    }
   ],
   "source": [
    "reg_lr = smf.ols(\n",
    "    'spend ~ treatment',\n",
    "    data=matched_data_lr\n",
    ").fit()\n",
    "\n",
    "reg_lr.summary().tables[1]"
   ]
  },
  {
   "cell_type": "code",
   "execution_count": 67,
   "id": "e647a67b-d4e8-4e0c-b93a-5b1e36ae2dcd",
   "metadata": {},
   "outputs": [
    {
     "data": {
      "text/html": [
       "<table class=\"simpletable\">\n",
       "<tr>\n",
       "      <td></td>         <th>coef</th>     <th>std err</th>      <th>t</th>      <th>P>|t|</th>  <th>[0.025</th>    <th>0.975]</th>  \n",
       "</tr>\n",
       "<tr>\n",
       "  <th>Intercept</th> <td>    0.6173</td> <td>    0.288</td> <td>    2.144</td> <td> 0.032</td> <td>    0.053</td> <td>    1.182</td>\n",
       "</tr>\n",
       "<tr>\n",
       "  <th>treatment</th> <td>    0.4601</td> <td>    0.407</td> <td>    1.130</td> <td> 0.259</td> <td>   -0.338</td> <td>    1.258</td>\n",
       "</tr>\n",
       "</table>"
      ],
      "text/plain": [
       "<class 'statsmodels.iolib.table.SimpleTable'>"
      ]
     },
     "execution_count": 67,
     "metadata": {},
     "output_type": "execute_result"
    }
   ],
   "source": [
    "reg_lgbm = smf.ols(\n",
    "    'spend ~ treatment',\n",
    "    data=matched_data_lgbm\n",
    ").fit()\n",
    "\n",
    "reg_lgbm.summary().tables[1]"
   ]
  }
 ],
 "metadata": {
  "kernelspec": {
   "display_name": "Python 3 (ipykernel)",
   "language": "python",
   "name": "python3"
  },
  "language_info": {
   "codemirror_mode": {
    "name": "ipython",
    "version": 3
   },
   "file_extension": ".py",
   "mimetype": "text/x-python",
   "name": "python",
   "nbconvert_exporter": "python",
   "pygments_lexer": "ipython3",
   "version": "3.10.0"
  }
 },
 "nbformat": 4,
 "nbformat_minor": 5
}
