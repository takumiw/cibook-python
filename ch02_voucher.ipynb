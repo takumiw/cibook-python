{
 "cells": [
  {
   "cell_type": "markdown",
   "id": "ade6aec9-d231-4442-8eee-56773b2acbcb",
   "metadata": {},
   "source": [
    "# 2.3.2 Rによる回帰分析の実行"
   ]
  },
  {
   "cell_type": "code",
   "execution_count": 66,
   "id": "1a74ec4c-d734-49da-9aca-83dd536212f2",
   "metadata": {},
   "outputs": [],
   "source": [
    "import random\n",
    "import warnings\n",
    "\n",
    "import matplotlib.pyplot as plt\n",
    "import numpy as np\n",
    "import pandas as pd\n",
    "import rdata\n",
    "import seaborn as sns\n",
    "import statsmodels.formula.api as smf\n",
    "\n",
    "warnings.simplefilter(\"ignore\")"
   ]
  },
  {
   "cell_type": "markdown",
   "id": "fae34ea8-317f-4a4c-b155-67ee34fe7b1f",
   "metadata": {},
   "source": [
    "## データの準備"
   ]
  },
  {
   "cell_type": "code",
   "execution_count": 2,
   "id": "2dd28e54-7497-440e-bfe5-24f8fe79aee3",
   "metadata": {},
   "outputs": [
    {
     "name": "stderr",
     "output_type": "stream",
     "text": [
      "/Users/takumiwatanabe/github/takumiw/cibook-python/.venv/lib/python3.10/site-packages/rdata/conversion/_conversion.py:669: UserWarning: Missing constructor for R class \"tbl_df\". The constructor for class \"tbl\" will be used instead.\n",
      "  warnings.warn(\n",
      "/Users/takumiwatanabe/github/takumiw/cibook-python/.venv/lib/python3.10/site-packages/rdata/conversion/_conversion.py:669: UserWarning: Missing constructor for R class \"tbl\". The constructor for class \"data.frame\" will be used instead.\n",
      "  warnings.warn(\n"
     ]
    },
    {
     "data": {
      "text/plain": [
       "(1147, 89)"
      ]
     },
     "execution_count": 2,
     "metadata": {},
     "output_type": "execute_result"
    }
   ],
   "source": [
    "parsed = rdata.parser.parse_file(\"vouchers.rda\")\n",
    "converted = rdata.conversion.convert(parsed)\n",
    "vouchers = converted[\"vouchers\"]\n",
    "\n",
    "# bogota 1995のデータを抽出\n",
    "data = vouchers.query(\"TAB3SMPL == 1 and BOG95SMP == 1\")\n",
    "data.shape"
   ]
  },
  {
   "cell_type": "code",
   "execution_count": 3,
   "id": "dea4646d-d983-4db4-9249-ced614d5cd28",
   "metadata": {},
   "outputs": [
    {
     "data": {
      "text/html": [
       "<div>\n",
       "<style scoped>\n",
       "    .dataframe tbody tr th:only-of-type {\n",
       "        vertical-align: middle;\n",
       "    }\n",
       "\n",
       "    .dataframe tbody tr th {\n",
       "        vertical-align: top;\n",
       "    }\n",
       "\n",
       "    .dataframe thead th {\n",
       "        text-align: right;\n",
       "    }\n",
       "</style>\n",
       "<table border=\"1\" class=\"dataframe\">\n",
       "  <thead>\n",
       "    <tr style=\"text-align: right;\">\n",
       "      <th></th>\n",
       "      <th>ID</th>\n",
       "      <th>BOG95SMP</th>\n",
       "      <th>BOG97SMP</th>\n",
       "      <th>JAM93SMP</th>\n",
       "      <th>SEX</th>\n",
       "      <th>AGE</th>\n",
       "      <th>AGE2</th>\n",
       "      <th>HSVISIT</th>\n",
       "      <th>SCYFNSH</th>\n",
       "      <th>INSCHL</th>\n",
       "      <th>...</th>\n",
       "      <th>REPT</th>\n",
       "      <th>NREPT</th>\n",
       "      <th>FINISH6</th>\n",
       "      <th>FINISH7</th>\n",
       "      <th>FINISH8</th>\n",
       "      <th>SEX_MISS</th>\n",
       "      <th>USNGSCH</th>\n",
       "      <th>HOURSUM</th>\n",
       "      <th>TAB3SMPL</th>\n",
       "      <th>WORKING3</th>\n",
       "    </tr>\n",
       "  </thead>\n",
       "  <tbody>\n",
       "    <tr>\n",
       "      <th>4</th>\n",
       "      <td>3.0</td>\n",
       "      <td>1.0</td>\n",
       "      <td>0.0</td>\n",
       "      <td>0.0</td>\n",
       "      <td>0.0</td>\n",
       "      <td>14.0</td>\n",
       "      <td>12.0</td>\n",
       "      <td>0.0</td>\n",
       "      <td>8.0</td>\n",
       "      <td>1.0</td>\n",
       "      <td>...</td>\n",
       "      <td>0.0</td>\n",
       "      <td>0.0</td>\n",
       "      <td>1.0</td>\n",
       "      <td>1.0</td>\n",
       "      <td>1.0</td>\n",
       "      <td>0.0</td>\n",
       "      <td>1.0</td>\n",
       "      <td>0.0</td>\n",
       "      <td>1.0</td>\n",
       "      <td>0.0</td>\n",
       "    </tr>\n",
       "    <tr>\n",
       "      <th>5</th>\n",
       "      <td>4.0</td>\n",
       "      <td>1.0</td>\n",
       "      <td>0.0</td>\n",
       "      <td>0.0</td>\n",
       "      <td>1.0</td>\n",
       "      <td>14.0</td>\n",
       "      <td>12.0</td>\n",
       "      <td>0.0</td>\n",
       "      <td>8.0</td>\n",
       "      <td>1.0</td>\n",
       "      <td>...</td>\n",
       "      <td>0.0</td>\n",
       "      <td>0.0</td>\n",
       "      <td>1.0</td>\n",
       "      <td>1.0</td>\n",
       "      <td>1.0</td>\n",
       "      <td>0.0</td>\n",
       "      <td>1.0</td>\n",
       "      <td>0.0</td>\n",
       "      <td>1.0</td>\n",
       "      <td>0.0</td>\n",
       "    </tr>\n",
       "    <tr>\n",
       "      <th>6</th>\n",
       "      <td>5.0</td>\n",
       "      <td>1.0</td>\n",
       "      <td>0.0</td>\n",
       "      <td>0.0</td>\n",
       "      <td>0.0</td>\n",
       "      <td>14.0</td>\n",
       "      <td>12.0</td>\n",
       "      <td>0.0</td>\n",
       "      <td>8.0</td>\n",
       "      <td>1.0</td>\n",
       "      <td>...</td>\n",
       "      <td>0.0</td>\n",
       "      <td>0.0</td>\n",
       "      <td>1.0</td>\n",
       "      <td>1.0</td>\n",
       "      <td>1.0</td>\n",
       "      <td>0.0</td>\n",
       "      <td>0.0</td>\n",
       "      <td>0.0</td>\n",
       "      <td>1.0</td>\n",
       "      <td>0.0</td>\n",
       "    </tr>\n",
       "  </tbody>\n",
       "</table>\n",
       "<p>3 rows × 89 columns</p>\n",
       "</div>"
      ],
      "text/plain": [
       "    ID  BOG95SMP  BOG97SMP  JAM93SMP  SEX   AGE  AGE2  HSVISIT  SCYFNSH  \\\n",
       "4  3.0       1.0       0.0       0.0  0.0  14.0  12.0      0.0      8.0   \n",
       "5  4.0       1.0       0.0       0.0  1.0  14.0  12.0      0.0      8.0   \n",
       "6  5.0       1.0       0.0       0.0  0.0  14.0  12.0      0.0      8.0   \n",
       "\n",
       "   INSCHL  ...  REPT  NREPT  FINISH6  FINISH7  FINISH8  SEX_MISS  USNGSCH  \\\n",
       "4     1.0  ...   0.0    0.0      1.0      1.0      1.0       0.0      1.0   \n",
       "5     1.0  ...   0.0    0.0      1.0      1.0      1.0       0.0      1.0   \n",
       "6     1.0  ...   0.0    0.0      1.0      1.0      1.0       0.0      0.0   \n",
       "\n",
       "   HOURSUM  TAB3SMPL  WORKING3  \n",
       "4      0.0       1.0       0.0  \n",
       "5      0.0       1.0       0.0  \n",
       "6      0.0       1.0       0.0  \n",
       "\n",
       "[3 rows x 89 columns]"
      ]
     },
     "execution_count": 3,
     "metadata": {},
     "output_type": "execute_result"
    }
   ],
   "source": [
    "data.head(3)"
   ]
  },
  {
   "cell_type": "markdown",
   "id": "7516bff3-572d-413b-aff2-212cc30bd0e8",
   "metadata": {},
   "source": [
    "## 回帰分析\n",
    "- treatmentの推定結果は 0.8100 であり、その検定におけるp値も 0.000 < 0.05 と非常に小さい値のため、帰無仮説 (メール送信の効果はない) を棄却できる\n",
    "- 従って、この値はメールを送信することで売上が平均 0.8 ほど増加するという解釈が可能"
   ]
  },
  {
   "cell_type": "code",
   "execution_count": 4,
   "id": "43a22664-2338-48a3-afe4-fef914550e18",
   "metadata": {},
   "outputs": [],
   "source": [
    "formula_x_base = \"VOUCH0\"  # 介入変数\n",
    "formula_x_covariate = [\n",
    "    'SVY',  'HSVISIT', 'AGE', 'STRATA1', 'STRATA2', 'STRATA3', 'STRATA4', 'STRATA5', 'STRATA6', 'STRATAMS',\n",
    "    'D1993', 'D1995', 'D1997',\n",
    "    'DMONTH1', 'DMONTH2', 'DMONTH3', 'DMONTH4', 'DMONTH5', 'DMONTH6', 'DMONTH7', 'DMONTH8', 'DMONTH9', 'DMONTH10', 'DMONTH11', 'DMONTH12', \n",
    "    'SEX2'\n",
    "]  # 共変量\n",
    "formula_ys = [\n",
    "    'TOTSCYRS','INSCHL','PRSCH_C','USNGSCH','PRSCHA_1','FINISH6','FINISH7',\n",
    "    'FINISH8','REPT6','REPT','NREPT', 'MARRIED','HASCHILD','HOURSUM','WORKING3'\n",
    "]  # 被目的変数の候補"
   ]
  },
  {
   "cell_type": "code",
   "execution_count": 5,
   "id": "580a4edd-7f4c-405e-8085-2f89703efee2",
   "metadata": {},
   "outputs": [
    {
     "data": {
      "text/plain": [
       "'TOTSCYRS ~ VOUCH0'"
      ]
     },
     "execution_count": 5,
     "metadata": {},
     "output_type": "execute_result"
    }
   ],
   "source": [
    "# 被目的変数の各候補に対して、共変量を含まない回帰式の作成\n",
    "base_reg_formulas = [f\"{y} ~ {formula_x_base}\" for y in formula_ys]\n",
    "base_reg_formulas[0]"
   ]
  },
  {
   "cell_type": "code",
   "execution_count": 6,
   "id": "3f43e865-e68e-45bd-af87-455e33b5895b",
   "metadata": {},
   "outputs": [
    {
     "data": {
      "text/plain": [
       "'TOTSCYRS ~ VOUCH0 + SVY + HSVISIT + AGE + STRATA1 + STRATA2 + STRATA3 + STRATA4 + STRATA5 + STRATA6 + STRATAMS + D1993 + D1995 + D1997 + DMONTH1 + DMONTH2 + DMONTH3 + DMONTH4 + DMONTH5 + DMONTH6 + DMONTH7 + DMONTH8 + DMONTH9 + DMONTH10 + DMONTH11 + DMONTH12 + SEX2'"
      ]
     },
     "execution_count": 6,
     "metadata": {},
     "output_type": "execute_result"
    }
   ],
   "source": [
    "# 被目的変数の各候補に対して、共変量を含む回帰式の作成\n",
    "covariate_reg_formulas = [f\"{y} ~ {' + '.join([formula_x_base] + formula_x_covariate)}\" for y in formula_ys]\n",
    "covariate_reg_formulas[0]"
   ]
  },
  {
   "cell_type": "code",
   "execution_count": 7,
   "id": "eeafec80-668e-4563-af57-fb5c914906a2",
   "metadata": {},
   "outputs": [],
   "source": [
    "# 回帰分析を実行\n",
    "z = \"VOUCH0\"\n",
    "result = pd.DataFrame(columns=[\"model_index\", \"term\", \"estimate\", \"std_error\", \"p_value\", \"ci_lower\", \"ci_upper\"])\n",
    "\n",
    "# 共変量を含まない場合と含む場合について実行\n",
    "for formulas, covar in zip([base_reg_formulas, covariate_reg_formulas], [\"base\", \"covariate\"]):\n",
    "    # 各回帰式を実行\n",
    "    for formula in formulas:\n",
    "        y = \"_\".join([formula.split(\" ~ \")[0], covar])\n",
    "        reg = smf.ols(data=data, formula=formula).fit()\n",
    "        reg_summary = pd.read_html(reg.summary().tables[1].as_html(), header=0, index_col=0)[0]\n",
    "        est = reg_summary.loc[\"VOUCH0\", \"coef\"]\n",
    "        std_error = reg_summary.loc[\"VOUCH0\", \"std err\"]\n",
    "        p = reg_summary.loc[\"VOUCH0\", \"P>|t|\"]\n",
    "        ci_lower = reg_summary.loc[\"VOUCH0\", \"[0.025\"]\n",
    "        ci_upper = reg_summary.loc[\"VOUCH0\", \"0.975]\"]\n",
    "        reg_result = {\"model_index\": y, \"term\": z, \"estimate\": est, \"std_error\": std_error, \"p_value\": p, \"ci_lower\": ci_lower, \"ci_upper\": ci_upper}\n",
    "        result = pd.concat([result, pd.DataFrame.from_dict(reg_result, orient='index').T])\n",
    "    \n",
    "result = result.reset_index(drop=True)"
   ]
  },
  {
   "cell_type": "code",
   "execution_count": 8,
   "id": "9c58fe43-8878-4139-8604-d539bdd00ffa",
   "metadata": {},
   "outputs": [
    {
     "data": {
      "text/html": [
       "<div>\n",
       "<style scoped>\n",
       "    .dataframe tbody tr th:only-of-type {\n",
       "        vertical-align: middle;\n",
       "    }\n",
       "\n",
       "    .dataframe tbody tr th {\n",
       "        vertical-align: top;\n",
       "    }\n",
       "\n",
       "    .dataframe thead th {\n",
       "        text-align: right;\n",
       "    }\n",
       "</style>\n",
       "<table border=\"1\" class=\"dataframe\">\n",
       "  <thead>\n",
       "    <tr style=\"text-align: right;\">\n",
       "      <th></th>\n",
       "      <th>model_index</th>\n",
       "      <th>term</th>\n",
       "      <th>estimate</th>\n",
       "      <th>std_error</th>\n",
       "      <th>p_value</th>\n",
       "      <th>ci_lower</th>\n",
       "      <th>ci_upper</th>\n",
       "    </tr>\n",
       "  </thead>\n",
       "  <tbody>\n",
       "    <tr>\n",
       "      <th>0</th>\n",
       "      <td>TOTSCYRS_base</td>\n",
       "      <td>VOUCH0</td>\n",
       "      <td>0.0581</td>\n",
       "      <td>0.052</td>\n",
       "      <td>0.267</td>\n",
       "      <td>-0.045</td>\n",
       "      <td>0.161</td>\n",
       "    </tr>\n",
       "    <tr>\n",
       "      <th>1</th>\n",
       "      <td>INSCHL_base</td>\n",
       "      <td>VOUCH0</td>\n",
       "      <td>0.0186</td>\n",
       "      <td>0.022</td>\n",
       "      <td>0.39</td>\n",
       "      <td>-0.024</td>\n",
       "      <td>0.061</td>\n",
       "    </tr>\n",
       "    <tr>\n",
       "      <th>2</th>\n",
       "      <td>PRSCH_C_base</td>\n",
       "      <td>VOUCH0</td>\n",
       "      <td>0.16</td>\n",
       "      <td>0.028</td>\n",
       "      <td>0.0</td>\n",
       "      <td>0.104</td>\n",
       "      <td>0.216</td>\n",
       "    </tr>\n",
       "    <tr>\n",
       "      <th>3</th>\n",
       "      <td>USNGSCH_base</td>\n",
       "      <td>VOUCH0</td>\n",
       "      <td>0.5089</td>\n",
       "      <td>0.023</td>\n",
       "      <td>0.0</td>\n",
       "      <td>0.464</td>\n",
       "      <td>0.554</td>\n",
       "    </tr>\n",
       "    <tr>\n",
       "      <th>4</th>\n",
       "      <td>PRSCHA_1_base</td>\n",
       "      <td>VOUCH0</td>\n",
       "      <td>0.0629</td>\n",
       "      <td>0.017</td>\n",
       "      <td>0.0</td>\n",
       "      <td>0.03</td>\n",
       "      <td>0.096</td>\n",
       "    </tr>\n",
       "  </tbody>\n",
       "</table>\n",
       "</div>"
      ],
      "text/plain": [
       "     model_index    term estimate std_error p_value ci_lower ci_upper\n",
       "0  TOTSCYRS_base  VOUCH0   0.0581     0.052   0.267   -0.045    0.161\n",
       "1    INSCHL_base  VOUCH0   0.0186     0.022    0.39   -0.024    0.061\n",
       "2   PRSCH_C_base  VOUCH0     0.16     0.028     0.0    0.104    0.216\n",
       "3   USNGSCH_base  VOUCH0   0.5089     0.023     0.0    0.464    0.554\n",
       "4  PRSCHA_1_base  VOUCH0   0.0629     0.017     0.0     0.03    0.096"
      ]
     },
     "execution_count": 8,
     "metadata": {},
     "output_type": "execute_result"
    }
   ],
   "source": [
    "result.head()"
   ]
  },
  {
   "cell_type": "code",
   "execution_count": 9,
   "id": "92494e02-b14a-4101-979f-d3a2b29fae81",
   "metadata": {},
   "outputs": [
    {
     "data": {
      "text/html": [
       "<div>\n",
       "<style scoped>\n",
       "    .dataframe tbody tr th:only-of-type {\n",
       "        vertical-align: middle;\n",
       "    }\n",
       "\n",
       "    .dataframe tbody tr th {\n",
       "        vertical-align: top;\n",
       "    }\n",
       "\n",
       "    .dataframe thead th {\n",
       "        text-align: right;\n",
       "    }\n",
       "</style>\n",
       "<table border=\"1\" class=\"dataframe\">\n",
       "  <thead>\n",
       "    <tr style=\"text-align: right;\">\n",
       "      <th></th>\n",
       "      <th>model_index</th>\n",
       "      <th>term</th>\n",
       "      <th>estimate</th>\n",
       "      <th>std_error</th>\n",
       "      <th>p_value</th>\n",
       "      <th>ci_lower</th>\n",
       "      <th>ci_upper</th>\n",
       "    </tr>\n",
       "  </thead>\n",
       "  <tbody>\n",
       "    <tr>\n",
       "      <th>25</th>\n",
       "      <td>NREPT_covariate</td>\n",
       "      <td>VOUCH0</td>\n",
       "      <td>-0.0667</td>\n",
       "      <td>0.028</td>\n",
       "      <td>0.017</td>\n",
       "      <td>-0.122</td>\n",
       "      <td>-0.012</td>\n",
       "    </tr>\n",
       "    <tr>\n",
       "      <th>26</th>\n",
       "      <td>MARRIED_covariate</td>\n",
       "      <td>VOUCH0</td>\n",
       "      <td>-0.0087</td>\n",
       "      <td>0.006</td>\n",
       "      <td>0.162</td>\n",
       "      <td>-0.021</td>\n",
       "      <td>0.004</td>\n",
       "    </tr>\n",
       "    <tr>\n",
       "      <th>27</th>\n",
       "      <td>HASCHILD_covariate</td>\n",
       "      <td>VOUCH0</td>\n",
       "      <td>-0.0103</td>\n",
       "      <td>0.01</td>\n",
       "      <td>0.286</td>\n",
       "      <td>-0.029</td>\n",
       "      <td>0.009</td>\n",
       "    </tr>\n",
       "    <tr>\n",
       "      <th>28</th>\n",
       "      <td>HOURSUM_covariate</td>\n",
       "      <td>VOUCH0</td>\n",
       "      <td>-1.2223</td>\n",
       "      <td>0.636</td>\n",
       "      <td>0.055</td>\n",
       "      <td>-2.47</td>\n",
       "      <td>0.025</td>\n",
       "    </tr>\n",
       "    <tr>\n",
       "      <th>29</th>\n",
       "      <td>WORKING3_covariate</td>\n",
       "      <td>VOUCH0</td>\n",
       "      <td>-0.0297</td>\n",
       "      <td>0.02</td>\n",
       "      <td>0.146</td>\n",
       "      <td>-0.07</td>\n",
       "      <td>0.01</td>\n",
       "    </tr>\n",
       "  </tbody>\n",
       "</table>\n",
       "</div>"
      ],
      "text/plain": [
       "           model_index    term estimate std_error p_value ci_lower ci_upper\n",
       "25     NREPT_covariate  VOUCH0  -0.0667     0.028   0.017   -0.122   -0.012\n",
       "26   MARRIED_covariate  VOUCH0  -0.0087     0.006   0.162   -0.021    0.004\n",
       "27  HASCHILD_covariate  VOUCH0  -0.0103      0.01   0.286   -0.029    0.009\n",
       "28   HOURSUM_covariate  VOUCH0  -1.2223     0.636   0.055    -2.47    0.025\n",
       "29  WORKING3_covariate  VOUCH0  -0.0297      0.02   0.146    -0.07     0.01"
      ]
     },
     "execution_count": 9,
     "metadata": {},
     "output_type": "execute_result"
    }
   ],
   "source": [
    "result.tail()"
   ]
  },
  {
   "cell_type": "markdown",
   "id": "764f5938-364c-4485-ab18-4eb97fe595ca",
   "metadata": {},
   "source": [
    "# 2.3.3 私立学校への通学と割引券の利用についての分析"
   ]
  },
  {
   "cell_type": "markdown",
   "id": "6564347d-abab-4109-a8ae-ddc1af4596b0",
   "metadata": {},
   "source": [
    "## 当選したグループで割引券がちゃんと利用されたかを確認\n",
    "6年生の開始時に私立学校に在籍していたかを示す \"PRSCHA_1\" と、調査期間中に何かしらの奨学金を使ったかを示す \"USNGSCH\" に対する回帰分析の結果を参照する  \n",
    "当選グループにおいて、私立学校で6年生を始める比率が 6% 増加 (87% → 93%)  \n",
    "- 非当選グループでも87%程度の生徒が6年生を私立学校でスタートしている\n",
    "- くじに当たってもはずれても、結局私立学校へ通う生徒が多いことを示す\n",
    "- → 実験参加の申請の条件に私立学校の入学許可の提出が含まれていることが理由であると考えられる\n",
    "- → 既に入学する確率が高い状態の生徒の間で介入をランダムにアサインしている\n",
    "- →　当選してもしなくても生徒が受ける教育の質は短期的には大きく変わらないことを意味しており、今後の分析で学力などに効果が確認できても、その効果は学習の環境を短期的に変えたことで生まれるわけではないことを示唆する。\n",
    "\n",
    "当選グループにおいて、何かしらの奨学金を使った比率が 50% 増加 (5% → 55%)  \n",
    "- 当選したことにより、多くの生徒が割引券を利用し続けていることがわかる\n",
    "  \n",
    "以上の結果から、割引券自体は当選グループでちゃんと使われているものの、そもそもの私立学校への通学率が高いために通学率での効果が限定的になっていることがわかる。  \n",
    "少なくともこのデータでは、割引券には私立学校へ\"通わせ始める\"効果はかくにんされなかったということになる"
   ]
  },
  {
   "cell_type": "code",
   "execution_count": 10,
   "id": "130f2b73-e8d4-430c-a757-6a140b34f434",
   "metadata": {},
   "outputs": [
    {
     "data": {
      "text/html": [
       "<div>\n",
       "<style scoped>\n",
       "    .dataframe tbody tr th:only-of-type {\n",
       "        vertical-align: middle;\n",
       "    }\n",
       "\n",
       "    .dataframe tbody tr th {\n",
       "        vertical-align: top;\n",
       "    }\n",
       "\n",
       "    .dataframe thead th {\n",
       "        text-align: right;\n",
       "    }\n",
       "</style>\n",
       "<table border=\"1\" class=\"dataframe\">\n",
       "  <thead>\n",
       "    <tr style=\"text-align: right;\">\n",
       "      <th></th>\n",
       "      <th>model_index</th>\n",
       "      <th>term</th>\n",
       "      <th>estimate</th>\n",
       "      <th>std_error</th>\n",
       "      <th>p_value</th>\n",
       "      <th>ci_lower</th>\n",
       "      <th>ci_upper</th>\n",
       "    </tr>\n",
       "  </thead>\n",
       "  <tbody>\n",
       "    <tr>\n",
       "      <th>4</th>\n",
       "      <td>PRSCHA_1_base</td>\n",
       "      <td>VOUCH0</td>\n",
       "      <td>0.0629</td>\n",
       "      <td>0.017</td>\n",
       "      <td>0.0</td>\n",
       "      <td>0.03</td>\n",
       "      <td>0.096</td>\n",
       "    </tr>\n",
       "    <tr>\n",
       "      <th>19</th>\n",
       "      <td>PRSCHA_1_covariate</td>\n",
       "      <td>VOUCH0</td>\n",
       "      <td>0.0574</td>\n",
       "      <td>0.017</td>\n",
       "      <td>0.001</td>\n",
       "      <td>0.024</td>\n",
       "      <td>0.091</td>\n",
       "    </tr>\n",
       "    <tr>\n",
       "      <th>3</th>\n",
       "      <td>USNGSCH_base</td>\n",
       "      <td>VOUCH0</td>\n",
       "      <td>0.5089</td>\n",
       "      <td>0.023</td>\n",
       "      <td>0.0</td>\n",
       "      <td>0.464</td>\n",
       "      <td>0.554</td>\n",
       "    </tr>\n",
       "    <tr>\n",
       "      <th>18</th>\n",
       "      <td>USNGSCH_covariate</td>\n",
       "      <td>VOUCH0</td>\n",
       "      <td>0.5042</td>\n",
       "      <td>0.023</td>\n",
       "      <td>0.0</td>\n",
       "      <td>0.459</td>\n",
       "      <td>0.549</td>\n",
       "    </tr>\n",
       "  </tbody>\n",
       "</table>\n",
       "</div>"
      ],
      "text/plain": [
       "           model_index    term estimate std_error p_value ci_lower ci_upper\n",
       "4        PRSCHA_1_base  VOUCH0   0.0629     0.017     0.0     0.03    0.096\n",
       "19  PRSCHA_1_covariate  VOUCH0   0.0574     0.017   0.001    0.024    0.091\n",
       "3         USNGSCH_base  VOUCH0   0.5089     0.023     0.0    0.464    0.554\n",
       "18   USNGSCH_covariate  VOUCH0   0.5042     0.023     0.0    0.459    0.549"
      ]
     },
     "execution_count": 10,
     "metadata": {},
     "output_type": "execute_result"
    }
   ],
   "source": [
    "result_ = result[result.model_index.str.contains(\"PRSCHA_1\") | result.model_index.str.contains(\"USNGSCH\")].sort_values(by=\"model_index\")\n",
    "result_"
   ]
  },
  {
   "cell_type": "markdown",
   "id": "006f1c94-04e5-43da-a6f0-9d381f364355",
   "metadata": {
    "tags": []
   },
   "source": [
    "# 2.3.4 割引券は留年を減らしているか？\n",
    "当選から3年経過した調査段階において、まだ私立学校へ通っていることを表す変数 \"PRSCHC_C\" に対する回帰分析の結果  \n",
    "- 通っている場合は1, そうでない場合には0を取るところ、効果量は0.15程度となり、当選したことによって私立へ通い続ける精度が15%程度増加している事がわかる  \n",
    "\n",
    "6年生で留年をしたかを示すREPT6の推定結果は-0.06であり、当選グループでは6年生における留年する確率が6%程度低いことを示している。  \n",
    "→ 当選することで私立学校へ継続的に通学できるようになり、それは割引券による学費の低下とそれを維持し続けるために留年しなくなった生徒がいるという状況がありそう。  \n",
    "\n",
    "この結果は、割引券を受け取った生徒がより学費が高く教育の質が高い学校へ行ったために留学しなくなったということに起因しているとも考えられる。  \n",
    "しかし、各生徒と学校選択についてのデータがないため、この要因の切り分けはできない。  \n",
    "よって、留年しなくなる理由が割引券のインセンティブ設計にあるのかをこのデータで完全に明らかにすることはできない。"
   ]
  },
  {
   "cell_type": "code",
   "execution_count": 11,
   "id": "82546413-2328-4b5a-9e15-419205ef328d",
   "metadata": {
    "collapsed": true,
    "jupyter": {
     "outputs_hidden": true
    },
    "tags": []
   },
   "outputs": [
    {
     "data": {
      "text/plain": [
       "array(['TOTSCYRS_covariate', 'INSCHL_covariate', 'PRSCH_C_covariate',\n",
       "       'USNGSCH_covariate', 'PRSCHA_1_covariate', 'FINISH6_covariate',\n",
       "       'FINISH7_covariate', 'FINISH8_covariate', 'REPT6_covariate',\n",
       "       'REPT_covariate', 'NREPT_covariate', 'MARRIED_covariate',\n",
       "       'HASCHILD_covariate', 'HOURSUM_covariate', 'WORKING3_covariate'],\n",
       "      dtype=object)"
      ]
     },
     "execution_count": 11,
     "metadata": {},
     "output_type": "execute_result"
    }
   ],
   "source": [
    "result[result.model_index.str.contains(\"covariate\")].model_index.unique()"
   ]
  },
  {
   "cell_type": "code",
   "execution_count": 13,
   "id": "18299581-5b9b-42cb-9e65-99a5bd6124ec",
   "metadata": {
    "collapsed": true,
    "jupyter": {
     "outputs_hidden": true
    },
    "tags": []
   },
   "outputs": [
    {
     "data": {
      "text/html": [
       "<div>\n",
       "<style scoped>\n",
       "    .dataframe tbody tr th:only-of-type {\n",
       "        vertical-align: middle;\n",
       "    }\n",
       "\n",
       "    .dataframe tbody tr th {\n",
       "        vertical-align: top;\n",
       "    }\n",
       "\n",
       "    .dataframe thead th {\n",
       "        text-align: right;\n",
       "    }\n",
       "</style>\n",
       "<table border=\"1\" class=\"dataframe\">\n",
       "  <thead>\n",
       "    <tr style=\"text-align: right;\">\n",
       "      <th></th>\n",
       "      <th>model_index</th>\n",
       "      <th>term</th>\n",
       "      <th>estimate</th>\n",
       "      <th>std_error</th>\n",
       "      <th>p_value</th>\n",
       "      <th>ci_lower</th>\n",
       "      <th>ci_upper</th>\n",
       "    </tr>\n",
       "  </thead>\n",
       "  <tbody>\n",
       "    <tr>\n",
       "      <th>0</th>\n",
       "      <td>FINISH6_covariate</td>\n",
       "      <td>VOUCH0</td>\n",
       "      <td>0.0229</td>\n",
       "      <td>0.012</td>\n",
       "      <td>0.056</td>\n",
       "      <td>-0.001</td>\n",
       "      <td>0.047</td>\n",
       "    </tr>\n",
       "    <tr>\n",
       "      <th>1</th>\n",
       "      <td>FINISH7_covariate</td>\n",
       "      <td>VOUCH0</td>\n",
       "      <td>0.0307</td>\n",
       "      <td>0.02</td>\n",
       "      <td>0.12</td>\n",
       "      <td>-0.008</td>\n",
       "      <td>0.07</td>\n",
       "    </tr>\n",
       "    <tr>\n",
       "      <th>2</th>\n",
       "      <td>FINISH8_covariate</td>\n",
       "      <td>VOUCH0</td>\n",
       "      <td>0.1002</td>\n",
       "      <td>0.027</td>\n",
       "      <td>0.0</td>\n",
       "      <td>0.047</td>\n",
       "      <td>0.153</td>\n",
       "    </tr>\n",
       "    <tr>\n",
       "      <th>3</th>\n",
       "      <td>INSCHL_covariate</td>\n",
       "      <td>VOUCH0</td>\n",
       "      <td>0.0069</td>\n",
       "      <td>0.02</td>\n",
       "      <td>0.734</td>\n",
       "      <td>-0.033</td>\n",
       "      <td>0.047</td>\n",
       "    </tr>\n",
       "    <tr>\n",
       "      <th>4</th>\n",
       "      <td>PRSCH_C_covariate</td>\n",
       "      <td>VOUCH0</td>\n",
       "      <td>0.1533</td>\n",
       "      <td>0.028</td>\n",
       "      <td>0.0</td>\n",
       "      <td>0.099</td>\n",
       "      <td>0.208</td>\n",
       "    </tr>\n",
       "    <tr>\n",
       "      <th>5</th>\n",
       "      <td>REPT6_covariate</td>\n",
       "      <td>VOUCH0</td>\n",
       "      <td>-0.0594</td>\n",
       "      <td>0.025</td>\n",
       "      <td>0.016</td>\n",
       "      <td>-0.108</td>\n",
       "      <td>-0.011</td>\n",
       "    </tr>\n",
       "    <tr>\n",
       "      <th>6</th>\n",
       "      <td>REPT_covariate</td>\n",
       "      <td>VOUCH0</td>\n",
       "      <td>-0.0548</td>\n",
       "      <td>0.024</td>\n",
       "      <td>0.02</td>\n",
       "      <td>-0.101</td>\n",
       "      <td>-0.009</td>\n",
       "    </tr>\n",
       "  </tbody>\n",
       "</table>\n",
       "</div>"
      ],
      "text/plain": [
       "         model_index    term estimate std_error p_value ci_lower ci_upper\n",
       "0  FINISH6_covariate  VOUCH0   0.0229     0.012   0.056   -0.001    0.047\n",
       "1  FINISH7_covariate  VOUCH0   0.0307      0.02    0.12   -0.008     0.07\n",
       "2  FINISH8_covariate  VOUCH0   0.1002     0.027     0.0    0.047    0.153\n",
       "3   INSCHL_covariate  VOUCH0   0.0069      0.02   0.734   -0.033    0.047\n",
       "4  PRSCH_C_covariate  VOUCH0   0.1533     0.028     0.0    0.099    0.208\n",
       "5    REPT6_covariate  VOUCH0  -0.0594     0.025   0.016   -0.108   -0.011\n",
       "6     REPT_covariate  VOUCH0  -0.0548     0.024    0.02   -0.101   -0.009"
      ]
     },
     "execution_count": 13,
     "metadata": {},
     "output_type": "execute_result"
    }
   ],
   "source": [
    "result_ = result[result.model_index.isin([\n",
    "    \"FINISH6_covariate\", \"FINISH7_covariate\", \"FINISH8_covariate\", \"INSCHL_covariate\", \"PRSCH_C_covariate\", \"REPT_covariate\", \"REPT6_covariate\"\n",
    "])].sort_values(by=\"model_index\").reset_index(drop=True)\n",
    "result_"
   ]
  },
  {
   "cell_type": "code",
   "execution_count": 67,
   "id": "cee87806-f16b-4467-9d34-689ff44b96e1",
   "metadata": {},
   "outputs": [
    {
     "data": {
      "image/png": "[encoded data removed]",
      "text/plain": [
       "<Figure size 864x576 with 1 Axes>"
      ]
     },
     "metadata": {
      "image/png": {
       "height": 542,
       "width": 735
      },
      "needs_background": "light"
     },
     "output_type": "display_data"
    }
   ],
   "source": [
    "fig, ax = plt.subplots(figsize=(12, 8))\n",
    "ax.errorbar(result_.model_index, result_.estimate, yerr=(result_.ci_upper-result_.estimate), marker='o', capthick=1, capsize=10, lw=1, linestyle=\"\")\n",
    "ax.hlines(0.0, xmin=-0.5, xmax=6.5, linestyles=\"dashed\", color=\"gray\")\n",
    "ax.set(xlabel=\"dependent variable\", ylabel=\"estimate\", xlim=[-0.5, 6.5])\n",
    "ax.set_xticklabels(result_.model_index, rotation=30)\n",
    "plt.title(\"Tendency of Repeat\")\n",
    "plt.show()"
   ]
  },
  {
   "cell_type": "markdown",
   "id": "f6ab46e7-e31f-4fb6-9af1-2aa801f7611c",
   "metadata": {},
   "source": [
    "# 2.3.5 性別による効果差\n",
    "介入の割り振りが行われた年における私立学校への通学率は、男子生徒は9%程度の効果があったと示してる  \n",
    "女子生徒は2%程度という結果となっているが統計亭な有意差がなく、私立学校へ通わせる効果はないという可能性を否定しきれないことになる  \n",
    "\n",
    "奨学金の利用を示すUSNGSCHに対する結果では、男子生徒では46%程度の効果があることを示唆しているが、女子生徒では55%程度の効果となっている  \n",
    "よって、女子生徒のほうが当選した際に奨学金を利用する傾向が強いことがわかる"
   ]
  },
  {
   "cell_type": "code",
   "execution_count": 73,
   "id": "c867ffc2-81a1-4682-89cf-8caf171db801",
   "metadata": {},
   "outputs": [],
   "source": [
    "formula_x_base = \"VOUCH0\"  # 介入変数\n",
    "formula_x_covariate = [\n",
    "    'SVY',  'HSVISIT', 'AGE', 'STRATA1', 'STRATA2', 'STRATA3', 'STRATA4', 'STRATA5', 'STRATA6', 'STRATAMS',\n",
    "    'D1993', 'D1995', 'D1997',\n",
    "    'DMONTH1', 'DMONTH2', 'DMONTH3', 'DMONTH4', 'DMONTH5', 'DMONTH6', 'DMONTH7', 'DMONTH8', 'DMONTH9', 'DMONTH10', 'DMONTH11', 'DMONTH12'\n",
    "]  # 共変量\n",
    "formula_ys = ['USNGSCH','PRSCHA_1']  # 被目的変数の候補"
   ]
  },
  {
   "cell_type": "code",
   "execution_count": 74,
   "id": "0e63f868-f39a-4014-bfdc-f60d402a07c7",
   "metadata": {
    "collapsed": true,
    "jupyter": {
     "outputs_hidden": true
    },
    "tags": []
   },
   "outputs": [
    {
     "data": {
      "text/plain": [
       "'USNGSCH ~ VOUCH0 + SVY + HSVISIT + AGE + STRATA1 + STRATA2 + STRATA3 + STRATA4 + STRATA5 + STRATA6 + STRATAMS + D1993 + D1995 + D1997 + DMONTH1 + DMONTH2 + DMONTH3 + DMONTH4 + DMONTH5 + DMONTH6 + DMONTH7 + DMONTH8 + DMONTH9 + DMONTH10 + DMONTH11 + DMONTH12'"
      ]
     },
     "execution_count": 74,
     "metadata": {},
     "output_type": "execute_result"
    }
   ],
   "source": [
    "# 被目的変数の各候補に対して、共変量を含む回帰式の作成\n",
    "covariate_reg_formulas = [f\"{y} ~ {' + '.join([formula_x_base] + formula_x_covariate)}\" for y in formula_ys]\n",
    "covariate_reg_formulas[0]"
   ]
  },
  {
   "cell_type": "code",
   "execution_count": 79,
   "id": "4a3b4685-f19f-4fd4-b174-414792554d25",
   "metadata": {},
   "outputs": [],
   "source": [
    "# 回帰分析を実行\n",
    "z = \"VOUCH0\"\n",
    "covar = \"covariate\"\n",
    "result_male = pd.DataFrame(columns=[\"model_index\", \"term\", \"estimate\", \"std_error\", \"p_value\", \"ci_lower\", \"ci_upper\"])\n",
    "result_female = pd.DataFrame(columns=[\"model_index\", \"term\", \"estimate\", \"std_error\", \"p_value\", \"ci_lower\", \"ci_upper\"])\n",
    "\n",
    "# 共変量を含まない場合と含む場合について実行\n",
    "for gender_cd in [0, 1]:\n",
    "    for formula in covariate_reg_formulas:\n",
    "        y = \"_\".join([formula.split(\" ~ \")[0], covar])\n",
    "        reg = smf.ols(data=data.query(\"SEX2 == @gender_cd\"), formula=formula).fit()\n",
    "        reg_summary = pd.read_html(reg.summary().tables[1].as_html(), header=0, index_col=0)[0]\n",
    "        est = reg_summary.loc[\"VOUCH0\", \"coef\"]\n",
    "        std_error = reg_summary.loc[\"VOUCH0\", \"std err\"]\n",
    "        p = reg_summary.loc[\"VOUCH0\", \"P>|t|\"]\n",
    "        ci_lower = reg_summary.loc[\"VOUCH0\", \"[0.025\"]\n",
    "        ci_upper = reg_summary.loc[\"VOUCH0\", \"0.975]\"]\n",
    "        reg_result = {\"model_index\": y, \"term\": z, \"estimate\": est, \"std_error\": std_error, \"p_value\": p, \"ci_lower\": ci_lower, \"ci_upper\": ci_upper}\n",
    "        if gender_cd == 0:\n",
    "            result_female = pd.concat([result_female, pd.DataFrame.from_dict(reg_result, orient='index').T])\n",
    "        else:\n",
    "            result_male = pd.concat([result_male, pd.DataFrame.from_dict(reg_result, orient='index').T])\n",
    "    \n",
    "result_male = result_male.reset_index(drop=True)\n",
    "result_female = result_female.reset_index(drop=True)"
   ]
  },
  {
   "cell_type": "code",
   "execution_count": 80,
   "id": "30df3024-d107-4cf0-9848-962c50aaf35d",
   "metadata": {
    "collapsed": true,
    "jupyter": {
     "outputs_hidden": true
    },
    "tags": []
   },
   "outputs": [
    {
     "data": {
      "text/html": [
       "<div>\n",
       "<style scoped>\n",
       "    .dataframe tbody tr th:only-of-type {\n",
       "        vertical-align: middle;\n",
       "    }\n",
       "\n",
       "    .dataframe tbody tr th {\n",
       "        vertical-align: top;\n",
       "    }\n",
       "\n",
       "    .dataframe thead th {\n",
       "        text-align: right;\n",
       "    }\n",
       "</style>\n",
       "<table border=\"1\" class=\"dataframe\">\n",
       "  <thead>\n",
       "    <tr style=\"text-align: right;\">\n",
       "      <th></th>\n",
       "      <th>model_index</th>\n",
       "      <th>term</th>\n",
       "      <th>estimate</th>\n",
       "      <th>std_error</th>\n",
       "      <th>p_value</th>\n",
       "      <th>ci_lower</th>\n",
       "      <th>ci_upper</th>\n",
       "    </tr>\n",
       "  </thead>\n",
       "  <tbody>\n",
       "    <tr>\n",
       "      <th>0</th>\n",
       "      <td>USNGSCH_covariate</td>\n",
       "      <td>VOUCH0</td>\n",
       "      <td>0.4677</td>\n",
       "      <td>0.033</td>\n",
       "      <td>0.0</td>\n",
       "      <td>0.403</td>\n",
       "      <td>0.533</td>\n",
       "    </tr>\n",
       "    <tr>\n",
       "      <th>1</th>\n",
       "      <td>PRSCHA_1_covariate</td>\n",
       "      <td>VOUCH0</td>\n",
       "      <td>0.0902</td>\n",
       "      <td>0.025</td>\n",
       "      <td>0.0</td>\n",
       "      <td>0.04</td>\n",
       "      <td>0.14</td>\n",
       "    </tr>\n",
       "  </tbody>\n",
       "</table>\n",
       "</div>"
      ],
      "text/plain": [
       "          model_index    term estimate std_error p_value ci_lower ci_upper\n",
       "0   USNGSCH_covariate  VOUCH0   0.4677     0.033     0.0    0.403    0.533\n",
       "1  PRSCHA_1_covariate  VOUCH0   0.0902     0.025     0.0     0.04     0.14"
      ]
     },
     "execution_count": 80,
     "metadata": {},
     "output_type": "execute_result"
    }
   ],
   "source": [
    "result_male"
   ]
  },
  {
   "cell_type": "code",
   "execution_count": 81,
   "id": "85b6081a-06e3-4e3b-81d7-ef8d23dc520e",
   "metadata": {
    "collapsed": true,
    "jupyter": {
     "outputs_hidden": true
    },
    "tags": []
   },
   "outputs": [
    {
     "data": {
      "text/html": [
       "<div>\n",
       "<style scoped>\n",
       "    .dataframe tbody tr th:only-of-type {\n",
       "        vertical-align: middle;\n",
       "    }\n",
       "\n",
       "    .dataframe tbody tr th {\n",
       "        vertical-align: top;\n",
       "    }\n",
       "\n",
       "    .dataframe thead th {\n",
       "        text-align: right;\n",
       "    }\n",
       "</style>\n",
       "<table border=\"1\" class=\"dataframe\">\n",
       "  <thead>\n",
       "    <tr style=\"text-align: right;\">\n",
       "      <th></th>\n",
       "      <th>model_index</th>\n",
       "      <th>term</th>\n",
       "      <th>estimate</th>\n",
       "      <th>std_error</th>\n",
       "      <th>p_value</th>\n",
       "      <th>ci_lower</th>\n",
       "      <th>ci_upper</th>\n",
       "    </tr>\n",
       "  </thead>\n",
       "  <tbody>\n",
       "    <tr>\n",
       "      <th>0</th>\n",
       "      <td>USNGSCH_covariate</td>\n",
       "      <td>VOUCH0</td>\n",
       "      <td>0.5436</td>\n",
       "      <td>0.032</td>\n",
       "      <td>0.0</td>\n",
       "      <td>0.481</td>\n",
       "      <td>0.606</td>\n",
       "    </tr>\n",
       "    <tr>\n",
       "      <th>1</th>\n",
       "      <td>PRSCHA_1_covariate</td>\n",
       "      <td>VOUCH0</td>\n",
       "      <td>0.0229</td>\n",
       "      <td>0.023</td>\n",
       "      <td>0.312</td>\n",
       "      <td>-0.022</td>\n",
       "      <td>0.067</td>\n",
       "    </tr>\n",
       "  </tbody>\n",
       "</table>\n",
       "</div>"
      ],
      "text/plain": [
       "          model_index    term estimate std_error p_value ci_lower ci_upper\n",
       "0   USNGSCH_covariate  VOUCH0   0.5436     0.032     0.0    0.481    0.606\n",
       "1  PRSCHA_1_covariate  VOUCH0   0.0229     0.023   0.312   -0.022    0.067"
      ]
     },
     "execution_count": 81,
     "metadata": {},
     "output_type": "execute_result"
    }
   ],
   "source": [
    "result_female"
   ]
  },
  {
   "cell_type": "code",
   "execution_count": 91,
   "id": "74207687-a2ff-4cf2-a6d4-c6ea31c516ad",
   "metadata": {},
   "outputs": [
    {
     "data": {
      "image/png": "[encoded data removed]",
      "text/plain": [
       "<Figure size 1008x432 with 2 Axes>"
      ]
     },
     "metadata": {
      "image/png": {
       "height": 465,
       "width": 832
      },
      "needs_background": "light"
     },
     "output_type": "display_data"
    }
   ],
   "source": [
    "fig, ax = plt.subplots(ncols=2, figsize=(14, 6))\n",
    "for ax_, gender_, result_ in zip(ax, [\"male\", \"female\"], [result_male, result_female]):\n",
    "    ax_.errorbar(result_.model_index, result_.estimate, yerr=(result_.ci_upper-result_.estimate), marker='o', capthick=1, capsize=10, lw=1, linestyle=\"\")\n",
    "    ax_.hlines(0.0, xmin=-0.5, xmax=1.5, linestyles=\"dashed\", color=\"gray\")\n",
    "    ax_.set(xlabel=\"dependent variable\", ylabel=\"estimate\", xlim=[-0.5, 1.5], ylim=[-0.05, 0.65], title=gender_)\n",
    "    ax_.set_xticklabels(result_.model_index, rotation=30)\n",
    "\n",
    "plt.suptitle(\"Tendency of Scholarship\")\n",
    "plt.show()"
   ]
  },
  {
   "cell_type": "code",
   "execution_count": null,
   "id": "301e1d39-83f4-42a1-83c4-99eaee850177",
   "metadata": {},
   "outputs": [],
   "source": []
  }
 ],
 "metadata": {
  "kernelspec": {
   "display_name": "Python 3 (ipykernel)",
   "language": "python",
   "name": "python3"
  },
  "language_info": {
   "codemirror_mode": {
    "name": "ipython",
    "version": 3
   },
   "file_extension": ".py",
   "mimetype": "text/x-python",
   "name": "python",
   "nbconvert_exporter": "python",
   "pygments_lexer": "ipython3",
   "version": "3.10.0"
  }
 },
 "nbformat": 4,
 "nbformat_minor": 5
}
