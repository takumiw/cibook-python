{
 "cells": [
  {
   "cell_type": "markdown",
   "id": "ade6aec9-d231-4442-8eee-56773b2acbcb",
   "metadata": {},
   "source": [
    "# 2.1.5 Rによるメールマーケティングデータの分析 (回帰編)"
   ]
  },
  {
   "cell_type": "code",
   "execution_count": 1,
   "id": "1a74ec4c-d734-49da-9aca-83dd536212f2",
   "metadata": {},
   "outputs": [],
   "source": [
    "import random\n",
    "\n",
    "import numpy as np\n",
    "import pandas as pd"
   ]
  },
  {
   "cell_type": "markdown",
   "id": "fae34ea8-317f-4a4c-b155-67ee34fe7b1f",
   "metadata": {},
   "source": [
    "## データの準備"
   ]
  },
  {
   "cell_type": "code",
   "execution_count": 2,
   "id": "aee0ec6d-2fce-4022-82ab-86073db4a672",
   "metadata": {},
   "outputs": [
    {
     "data": {
      "text/plain": [
       "(31961, 13)"
      ]
     },
     "execution_count": 2,
     "metadata": {},
     "output_type": "execute_result"
    }
   ],
   "source": [
    "data_biased = pd.read_csv(\"data_biased_cibook.csv\")\n",
    "data_biased.shape"
   ]
  },
  {
   "cell_type": "code",
   "execution_count": 3,
   "id": "dea4646d-d983-4db4-9249-ced614d5cd28",
   "metadata": {},
   "outputs": [
    {
     "data": {
      "text/html": [
       "<div>\n",
       "<style scoped>\n",
       "    .dataframe tbody tr th:only-of-type {\n",
       "        vertical-align: middle;\n",
       "    }\n",
       "\n",
       "    .dataframe tbody tr th {\n",
       "        vertical-align: top;\n",
       "    }\n",
       "\n",
       "    .dataframe thead th {\n",
       "        text-align: right;\n",
       "    }\n",
       "</style>\n",
       "<table border=\"1\" class=\"dataframe\">\n",
       "  <thead>\n",
       "    <tr style=\"text-align: right;\">\n",
       "      <th></th>\n",
       "      <th>recency</th>\n",
       "      <th>history_segment</th>\n",
       "      <th>history</th>\n",
       "      <th>mens</th>\n",
       "      <th>womens</th>\n",
       "      <th>zip_code</th>\n",
       "      <th>newbie</th>\n",
       "      <th>channel</th>\n",
       "      <th>segment</th>\n",
       "      <th>visit</th>\n",
       "      <th>conversion</th>\n",
       "      <th>spend</th>\n",
       "      <th>treatment</th>\n",
       "    </tr>\n",
       "  </thead>\n",
       "  <tbody>\n",
       "    <tr>\n",
       "      <th>0</th>\n",
       "      <td>3</td>\n",
       "      <td>1) $0 - $100</td>\n",
       "      <td>58.13</td>\n",
       "      <td>1</td>\n",
       "      <td>0</td>\n",
       "      <td>Urban</td>\n",
       "      <td>1</td>\n",
       "      <td>Web</td>\n",
       "      <td>No E-Mail</td>\n",
       "      <td>1</td>\n",
       "      <td>0</td>\n",
       "      <td>0.0</td>\n",
       "      <td>0</td>\n",
       "    </tr>\n",
       "    <tr>\n",
       "      <th>1</th>\n",
       "      <td>9</td>\n",
       "      <td>1) $0 - $100</td>\n",
       "      <td>29.99</td>\n",
       "      <td>0</td>\n",
       "      <td>1</td>\n",
       "      <td>Surburban</td>\n",
       "      <td>1</td>\n",
       "      <td>Phone</td>\n",
       "      <td>No E-Mail</td>\n",
       "      <td>0</td>\n",
       "      <td>0</td>\n",
       "      <td>0.0</td>\n",
       "      <td>0</td>\n",
       "    </tr>\n",
       "    <tr>\n",
       "      <th>2</th>\n",
       "      <td>2</td>\n",
       "      <td>1) $0 - $100</td>\n",
       "      <td>29.99</td>\n",
       "      <td>0</td>\n",
       "      <td>1</td>\n",
       "      <td>Urban</td>\n",
       "      <td>1</td>\n",
       "      <td>Phone</td>\n",
       "      <td>No E-Mail</td>\n",
       "      <td>0</td>\n",
       "      <td>0</td>\n",
       "      <td>0.0</td>\n",
       "      <td>0</td>\n",
       "    </tr>\n",
       "  </tbody>\n",
       "</table>\n",
       "</div>"
      ],
      "text/plain": [
       "   recency history_segment  history  mens  womens   zip_code  newbie channel  \\\n",
       "0        3    1) $0 - $100    58.13     1       0      Urban       1     Web   \n",
       "1        9    1) $0 - $100    29.99     0       1  Surburban       1   Phone   \n",
       "2        2    1) $0 - $100    29.99     0       1      Urban       1   Phone   \n",
       "\n",
       "     segment  visit  conversion  spend  treatment  \n",
       "0  No E-Mail      1           0    0.0          0  \n",
       "1  No E-Mail      0           0    0.0          0  \n",
       "2  No E-Mail      0           0    0.0          0  "
      ]
     },
     "execution_count": 3,
     "metadata": {},
     "output_type": "execute_result"
    }
   ],
   "source": [
    "data_biased.head(3)"
   ]
  },
  {
   "cell_type": "markdown",
   "id": "7516bff3-572d-413b-aff2-212cc30bd0e8",
   "metadata": {},
   "source": [
    "## 回帰分析\n",
    "- treatmentの推定結果は 0.8100 であり、その検定におけるp値も 0.000 < 0.05 と非常に小さい値のため、帰無仮説 (メール送信の効果はない) を棄却できる\n",
    "- 従って、この値はメールを送信することで売上が平均 0.8 ほど増加するという解釈が可能"
   ]
  },
  {
   "cell_type": "code",
   "execution_count": 4,
   "id": "eeafec80-668e-4563-af57-fb5c914906a2",
   "metadata": {},
   "outputs": [
    {
     "name": "stderr",
     "output_type": "stream",
     "text": [
      "/Users/takumiwatanabe/github/takumiw/cibook-python/.venv/lib/python3.10/site-packages/statsmodels/compat/pandas.py:65: FutureWarning: pandas.Int64Index is deprecated and will be removed from pandas in a future version. Use pandas.Index with the appropriate dtype instead.\n",
      "  from pandas import Int64Index as NumericIndex\n"
     ]
    }
   ],
   "source": [
    "import statsmodels.formula.api as smf"
   ]
  },
  {
   "cell_type": "code",
   "execution_count": 9,
   "id": "7b12ce5a-5802-46c8-b35d-88ac835b4882",
   "metadata": {},
   "outputs": [],
   "source": [
    "biased_reg = smf.ols(\n",
    "    data=data_biased,\n",
    "    formula=\"spend ~ treatment + history\"\n",
    ").fit()"
   ]
  },
  {
   "cell_type": "code",
   "execution_count": 10,
   "id": "3e6bd4d8-92e7-46a9-a780-7f6895e4b0f6",
   "metadata": {},
   "outputs": [
    {
     "data": {
      "text/html": [
       "<table class=\"simpletable\">\n",
       "<caption>OLS Regression Results</caption>\n",
       "<tr>\n",
       "  <th>Dep. Variable:</th>          <td>spend</td>      <th>  R-squared:         </th>  <td>   0.001</td>  \n",
       "</tr>\n",
       "<tr>\n",
       "  <th>Model:</th>                   <td>OLS</td>       <th>  Adj. R-squared:    </th>  <td>   0.001</td>  \n",
       "</tr>\n",
       "<tr>\n",
       "  <th>Method:</th>             <td>Least Squares</td>  <th>  F-statistic:       </th>  <td>   21.54</td>  \n",
       "</tr>\n",
       "<tr>\n",
       "  <th>Date:</th>             <td>Sat, 05 Feb 2022</td> <th>  Prob (F-statistic):</th>  <td>4.46e-10</td>  \n",
       "</tr>\n",
       "<tr>\n",
       "  <th>Time:</th>                 <td>17:18:14</td>     <th>  Log-Likelihood:    </th> <td>-1.3315e+05</td>\n",
       "</tr>\n",
       "<tr>\n",
       "  <th>No. Observations:</th>      <td> 31961</td>      <th>  AIC:               </th>  <td>2.663e+05</td> \n",
       "</tr>\n",
       "<tr>\n",
       "  <th>Df Residuals:</th>          <td> 31958</td>      <th>  BIC:               </th>  <td>2.663e+05</td> \n",
       "</tr>\n",
       "<tr>\n",
       "  <th>Df Model:</th>              <td>     2</td>      <th>                     </th>      <td> </td>     \n",
       "</tr>\n",
       "<tr>\n",
       "  <th>Covariance Type:</th>      <td>nonrobust</td>    <th>                     </th>      <td> </td>     \n",
       "</tr>\n",
       "</table>\n",
       "<table class=\"simpletable\">\n",
       "<tr>\n",
       "      <td></td>         <th>coef</th>     <th>std err</th>      <th>t</th>      <th>P>|t|</th>  <th>[0.025</th>    <th>0.975]</th>  \n",
       "</tr>\n",
       "<tr>\n",
       "  <th>Intercept</th> <td>    0.3798</td> <td>    0.139</td> <td>    2.735</td> <td> 0.006</td> <td>    0.108</td> <td>    0.652</td>\n",
       "</tr>\n",
       "<tr>\n",
       "  <th>treatment</th> <td>    0.8100</td> <td>    0.178</td> <td>    4.554</td> <td> 0.000</td> <td>    0.461</td> <td>    1.159</td>\n",
       "</tr>\n",
       "<tr>\n",
       "  <th>history</th>   <td>    0.0013</td> <td>    0.000</td> <td>    3.771</td> <td> 0.000</td> <td>    0.001</td> <td>    0.002</td>\n",
       "</tr>\n",
       "</table>\n",
       "<table class=\"simpletable\">\n",
       "<tr>\n",
       "  <th>Omnibus:</th>       <td>70697.854</td> <th>  Durbin-Watson:     </th>   <td>   1.982</td>   \n",
       "</tr>\n",
       "<tr>\n",
       "  <th>Prob(Omnibus):</th>  <td> 0.000</td>   <th>  Jarque-Bera (JB):  </th> <td>348412425.135</td>\n",
       "</tr>\n",
       "<tr>\n",
       "  <th>Skew:</th>           <td>20.709</td>   <th>  Prob(JB):          </th>   <td>    0.00</td>   \n",
       "</tr>\n",
       "<tr>\n",
       "  <th>Kurtosis:</th>       <td>512.816</td>  <th>  Cond. No.          </th>   <td>    804.</td>   \n",
       "</tr>\n",
       "</table><br/><br/>Notes:<br/>[1] Standard Errors assume that the covariance matrix of the errors is correctly specified."
      ],
      "text/plain": [
       "<class 'statsmodels.iolib.summary.Summary'>\n",
       "\"\"\"\n",
       "                            OLS Regression Results                            \n",
       "==============================================================================\n",
       "Dep. Variable:                  spend   R-squared:                       0.001\n",
       "Model:                            OLS   Adj. R-squared:                  0.001\n",
       "Method:                 Least Squares   F-statistic:                     21.54\n",
       "Date:                Sat, 05 Feb 2022   Prob (F-statistic):           4.46e-10\n",
       "Time:                        17:18:14   Log-Likelihood:            -1.3315e+05\n",
       "No. Observations:               31961   AIC:                         2.663e+05\n",
       "Df Residuals:                   31958   BIC:                         2.663e+05\n",
       "Df Model:                           2                                         \n",
       "Covariance Type:            nonrobust                                         \n",
       "==============================================================================\n",
       "                 coef    std err          t      P>|t|      [0.025      0.975]\n",
       "------------------------------------------------------------------------------\n",
       "Intercept      0.3798      0.139      2.735      0.006       0.108       0.652\n",
       "treatment      0.8100      0.178      4.554      0.000       0.461       1.159\n",
       "history        0.0013      0.000      3.771      0.000       0.001       0.002\n",
       "==============================================================================\n",
       "Omnibus:                    70697.854   Durbin-Watson:                   1.982\n",
       "Prob(Omnibus):                  0.000   Jarque-Bera (JB):        348412425.135\n",
       "Skew:                          20.709   Prob(JB):                         0.00\n",
       "Kurtosis:                     512.816   Cond. No.                         804.\n",
       "==============================================================================\n",
       "\n",
       "Notes:\n",
       "[1] Standard Errors assume that the covariance matrix of the errors is correctly specified.\n",
       "\"\"\""
      ]
     },
     "execution_count": 10,
     "metadata": {},
     "output_type": "execute_result"
    }
   ],
   "source": [
    "biased_reg.summary()"
   ]
  },
  {
   "cell_type": "code",
   "execution_count": 14,
   "id": "daf96986-eb6a-46b3-8a01-ed35885bae4a",
   "metadata": {},
   "outputs": [
    {
     "data": {
      "text/html": [
       "<table class=\"simpletable\">\n",
       "<tr>\n",
       "      <td></td>         <th>coef</th>     <th>std err</th>      <th>t</th>      <th>P>|t|</th>  <th>[0.025</th>    <th>0.975]</th>  \n",
       "</tr>\n",
       "<tr>\n",
       "  <th>Intercept</th> <td>    0.3798</td> <td>    0.139</td> <td>    2.735</td> <td> 0.006</td> <td>    0.108</td> <td>    0.652</td>\n",
       "</tr>\n",
       "<tr>\n",
       "  <th>treatment</th> <td>    0.8100</td> <td>    0.178</td> <td>    4.554</td> <td> 0.000</td> <td>    0.461</td> <td>    1.159</td>\n",
       "</tr>\n",
       "<tr>\n",
       "  <th>history</th>   <td>    0.0013</td> <td>    0.000</td> <td>    3.771</td> <td> 0.000</td> <td>    0.001</td> <td>    0.002</td>\n",
       "</tr>\n",
       "</table>"
      ],
      "text/plain": [
       "<class 'statsmodels.iolib.table.SimpleTable'>"
      ]
     },
     "execution_count": 14,
     "metadata": {},
     "output_type": "execute_result"
    }
   ],
   "source": [
    "# Coefficients に限定して出力\n",
    "biased_reg.summary().tables[1]"
   ]
  },
  {
   "cell_type": "markdown",
   "id": "a41e91e8-d1f4-4ba9-8017-faf0e1c264df",
   "metadata": {},
   "source": [
    "# 2.2.1 共変量の追加による効果への作用"
   ]
  },
  {
   "cell_type": "markdown",
   "id": "f898a2fa-7475-4c63-9afd-ae8598006068",
   "metadata": {},
   "source": [
    "## RCTデータ\n",
    "- RCTを行っているデータでは treatment の値は 0.7698 となり、介入群とコントロール群での購入額の平均の差と同様の結果となる"
   ]
  },
  {
   "cell_type": "code",
   "execution_count": 15,
   "id": "f48356ba-c6e9-4295-afe9-4167429df3a6",
   "metadata": {},
   "outputs": [
    {
     "data": {
      "text/plain": [
       "(42613, 13)"
      ]
     },
     "execution_count": 15,
     "metadata": {},
     "output_type": "execute_result"
    }
   ],
   "source": [
    "data = pd.read_csv(\"data_cibook.csv\")\n",
    "data.shape"
   ]
  },
  {
   "cell_type": "code",
   "execution_count": 16,
   "id": "9175f564-39e6-44c6-941c-4974659a97bc",
   "metadata": {},
   "outputs": [],
   "source": [
    "reg = smf.ols(\n",
    "    data=data,\n",
    "    formula=\"spend ~ treatment\"\n",
    ").fit()"
   ]
  },
  {
   "cell_type": "code",
   "execution_count": 17,
   "id": "cc97ad1d-ea8e-4976-818b-a960785bd81d",
   "metadata": {},
   "outputs": [
    {
     "data": {
      "text/html": [
       "<table class=\"simpletable\">\n",
       "<tr>\n",
       "      <td></td>         <th>coef</th>     <th>std err</th>      <th>t</th>      <th>P>|t|</th>  <th>[0.025</th>    <th>0.975]</th>  \n",
       "</tr>\n",
       "<tr>\n",
       "  <th>Intercept</th> <td>    0.6528</td> <td>    0.103</td> <td>    6.356</td> <td> 0.000</td> <td>    0.451</td> <td>    0.854</td>\n",
       "</tr>\n",
       "<tr>\n",
       "  <th>treatment</th> <td>    0.7698</td> <td>    0.145</td> <td>    5.300</td> <td> 0.000</td> <td>    0.485</td> <td>    1.055</td>\n",
       "</tr>\n",
       "</table>"
      ],
      "text/plain": [
       "<class 'statsmodels.iolib.table.SimpleTable'>"
      ]
     },
     "execution_count": 17,
     "metadata": {},
     "output_type": "execute_result"
    }
   ],
   "source": [
    "reg.summary().tables[1]"
   ]
  },
  {
   "cell_type": "markdown",
   "id": "3750e393-cc18-49c1-8994-73f406c03aff",
   "metadata": {},
   "source": [
    "## バイアスデータ\n",
    "- バイアスを加えたデータでは treatment の値は 0.9381 となり、セレクションバイアスによって効果が過剰に推定されていると考えられる"
   ]
  },
  {
   "cell_type": "code",
   "execution_count": 18,
   "id": "768c8c01-ec53-4d89-a28b-1075940d9415",
   "metadata": {},
   "outputs": [],
   "source": [
    "reg_biased = smf.ols(\n",
    "    data=data_biased,\n",
    "    formula=\"spend ~ treatment\"\n",
    ").fit()"
   ]
  },
  {
   "cell_type": "code",
   "execution_count": 19,
   "id": "2c0f691f-162c-45d7-9da5-e9d710187444",
   "metadata": {},
   "outputs": [
    {
     "data": {
      "text/html": [
       "<table class=\"simpletable\">\n",
       "<tr>\n",
       "      <td></td>         <th>coef</th>     <th>std err</th>      <th>t</th>      <th>P>|t|</th>  <th>[0.025</th>    <th>0.975]</th>  \n",
       "</tr>\n",
       "<tr>\n",
       "  <th>Intercept</th> <td>    0.6334</td> <td>    0.122</td> <td>    5.212</td> <td> 0.000</td> <td>    0.395</td> <td>    0.872</td>\n",
       "</tr>\n",
       "<tr>\n",
       "  <th>treatment</th> <td>    0.9381</td> <td>    0.175</td> <td>    5.372</td> <td> 0.000</td> <td>    0.596</td> <td>    1.280</td>\n",
       "</tr>\n",
       "</table>"
      ],
      "text/plain": [
       "<class 'statsmodels.iolib.table.SimpleTable'>"
      ]
     },
     "execution_count": 19,
     "metadata": {},
     "output_type": "execute_result"
    }
   ],
   "source": [
    "reg_biased.summary().tables[1]"
   ]
  },
  {
   "cell_type": "markdown",
   "id": "103c6992-4746-43b5-a30b-d71b85381055",
   "metadata": {},
   "source": [
    "## バイアスデータに、共変量を加える\n",
    "- バイアスデータに共変量を加えた結果 treatment の値は 0.7711 となり、RCTデータにおける結果に近づいた"
   ]
  },
  {
   "cell_type": "code",
   "execution_count": 22,
   "id": "a4775d86-44aa-4e94-98bc-c2d6c890bacd",
   "metadata": {},
   "outputs": [],
   "source": [
    "reg_biased2 = smf.ols(\n",
    "    data=data_biased,\n",
    "    formula=\"spend ~ treatment + recency + channel + history\"\n",
    ").fit()"
   ]
  },
  {
   "cell_type": "code",
   "execution_count": 23,
   "id": "df8cc324-7129-4b65-a60b-6cad771e02a1",
   "metadata": {},
   "outputs": [
    {
     "data": {
      "text/html": [
       "<table class=\"simpletable\">\n",
       "<tr>\n",
       "          <td></td>            <th>coef</th>     <th>std err</th>      <th>t</th>      <th>P>|t|</th>  <th>[0.025</th>    <th>0.975]</th>  \n",
       "</tr>\n",
       "<tr>\n",
       "  <th>Intercept</th>        <td>    0.4538</td> <td>    0.377</td> <td>    1.205</td> <td> 0.228</td> <td>   -0.285</td> <td>    1.192</td>\n",
       "</tr>\n",
       "<tr>\n",
       "  <th>channel[T.Phone]</th> <td>    0.1863</td> <td>    0.309</td> <td>    0.604</td> <td> 0.546</td> <td>   -0.418</td> <td>    0.791</td>\n",
       "</tr>\n",
       "<tr>\n",
       "  <th>channel[T.Web]</th>   <td>    0.3783</td> <td>    0.308</td> <td>    1.229</td> <td> 0.219</td> <td>   -0.225</td> <td>    0.982</td>\n",
       "</tr>\n",
       "<tr>\n",
       "  <th>treatment</th>        <td>    0.7711</td> <td>    0.180</td> <td>    4.284</td> <td> 0.000</td> <td>    0.418</td> <td>    1.124</td>\n",
       "</tr>\n",
       "<tr>\n",
       "  <th>recency</th>          <td>   -0.0523</td> <td>    0.026</td> <td>   -2.017</td> <td> 0.044</td> <td>   -0.103</td> <td>   -0.001</td>\n",
       "</tr>\n",
       "<tr>\n",
       "  <th>history</th>          <td>    0.0013</td> <td>    0.000</td> <td>    3.373</td> <td> 0.001</td> <td>    0.001</td> <td>    0.002</td>\n",
       "</tr>\n",
       "</table>"
      ],
      "text/plain": [
       "<class 'statsmodels.iolib.table.SimpleTable'>"
      ]
     },
     "execution_count": 23,
     "metadata": {},
     "output_type": "execute_result"
    }
   ],
   "source": [
    "reg_biased2.summary().tables[1]"
   ]
  },
  {
   "cell_type": "markdown",
   "id": "b34fa944-6222-4643-9730-7590733897f1",
   "metadata": {},
   "source": [
    "# 2.2.3 Rによる脱落変数バイアス (OVB) の確認"
   ]
  },
  {
   "cell_type": "code",
   "execution_count": 24,
   "id": "e5607bc4-8985-454b-bafc-eb2a956720fc",
   "metadata": {},
   "outputs": [],
   "source": [
    "reg_a = smf.ols(\n",
    "    data=data_biased,\n",
    "    formula=\"spend ~ treatment + recency + channel\"\n",
    ").fit()\n",
    "\n",
    "reg_b = smf.ols(\n",
    "    data=data_biased,\n",
    "    formula=\"spend ~ treatment + recency + channel + history\"\n",
    ").fit()\n",
    "\n",
    "reg_c = smf.ols(\n",
    "    data=data_biased,\n",
    "    formula=\"history ~ treatment + recency + channel\"\n",
    ").fit()"
   ]
  },
  {
   "cell_type": "code",
   "execution_count": 25,
   "id": "710a490a-05a2-4942-9cca-059172636c3f",
   "metadata": {},
   "outputs": [
    {
     "data": {
      "text/html": [
       "<table class=\"simpletable\">\n",
       "<tr>\n",
       "          <td></td>            <th>coef</th>     <th>std err</th>      <th>t</th>      <th>P>|t|</th>  <th>[0.025</th>    <th>0.975]</th>  \n",
       "</tr>\n",
       "<tr>\n",
       "  <th>Intercept</th>        <td>    1.1654</td> <td>    0.312</td> <td>    3.733</td> <td> 0.000</td> <td>    0.554</td> <td>    1.777</td>\n",
       "</tr>\n",
       "<tr>\n",
       "  <th>channel[T.Phone]</th> <td>   -0.1935</td> <td>    0.287</td> <td>   -0.674</td> <td> 0.500</td> <td>   -0.757</td> <td>    0.369</td>\n",
       "</tr>\n",
       "<tr>\n",
       "  <th>channel[T.Web]</th>   <td>    0.0004</td> <td>    0.287</td> <td>    0.001</td> <td> 0.999</td> <td>   -0.562</td> <td>    0.563</td>\n",
       "</tr>\n",
       "<tr>\n",
       "  <th>treatment</th>        <td>    0.8425</td> <td>    0.179</td> <td>    4.712</td> <td> 0.000</td> <td>    0.492</td> <td>    1.193</td>\n",
       "</tr>\n",
       "<tr>\n",
       "  <th>recency</th>          <td>   -0.0697</td> <td>    0.025</td> <td>   -2.743</td> <td> 0.006</td> <td>   -0.120</td> <td>   -0.020</td>\n",
       "</tr>\n",
       "</table>"
      ],
      "text/plain": [
       "<class 'statsmodels.iolib.table.SimpleTable'>"
      ]
     },
     "execution_count": 25,
     "metadata": {},
     "output_type": "execute_result"
    }
   ],
   "source": [
    "reg_a.summary().tables[1]"
   ]
  },
  {
   "cell_type": "code",
   "execution_count": 26,
   "id": "5007993d-6abc-436b-85cf-67d3854e93ec",
   "metadata": {},
   "outputs": [
    {
     "data": {
      "text/html": [
       "<table class=\"simpletable\">\n",
       "<tr>\n",
       "          <td></td>            <th>coef</th>     <th>std err</th>      <th>t</th>      <th>P>|t|</th>  <th>[0.025</th>    <th>0.975]</th>  \n",
       "</tr>\n",
       "<tr>\n",
       "  <th>Intercept</th>        <td>    0.4538</td> <td>    0.377</td> <td>    1.205</td> <td> 0.228</td> <td>   -0.285</td> <td>    1.192</td>\n",
       "</tr>\n",
       "<tr>\n",
       "  <th>channel[T.Phone]</th> <td>    0.1863</td> <td>    0.309</td> <td>    0.604</td> <td> 0.546</td> <td>   -0.418</td> <td>    0.791</td>\n",
       "</tr>\n",
       "<tr>\n",
       "  <th>channel[T.Web]</th>   <td>    0.3783</td> <td>    0.308</td> <td>    1.229</td> <td> 0.219</td> <td>   -0.225</td> <td>    0.982</td>\n",
       "</tr>\n",
       "<tr>\n",
       "  <th>treatment</th>        <td>    0.7711</td> <td>    0.180</td> <td>    4.284</td> <td> 0.000</td> <td>    0.418</td> <td>    1.124</td>\n",
       "</tr>\n",
       "<tr>\n",
       "  <th>recency</th>          <td>   -0.0523</td> <td>    0.026</td> <td>   -2.017</td> <td> 0.044</td> <td>   -0.103</td> <td>   -0.001</td>\n",
       "</tr>\n",
       "<tr>\n",
       "  <th>history</th>          <td>    0.0013</td> <td>    0.000</td> <td>    3.373</td> <td> 0.001</td> <td>    0.001</td> <td>    0.002</td>\n",
       "</tr>\n",
       "</table>"
      ],
      "text/plain": [
       "<class 'statsmodels.iolib.table.SimpleTable'>"
      ]
     },
     "execution_count": 26,
     "metadata": {},
     "output_type": "execute_result"
    }
   ],
   "source": [
    "reg_b.summary().tables[1]"
   ]
  },
  {
   "cell_type": "code",
   "execution_count": 27,
   "id": "a5c04aaf-16d3-4145-bbd5-5ecac1bbb1ab",
   "metadata": {},
   "outputs": [
    {
     "data": {
      "text/html": [
       "<table class=\"simpletable\">\n",
       "<tr>\n",
       "          <td></td>            <th>coef</th>     <th>std err</th>      <th>t</th>      <th>P>|t|</th>  <th>[0.025</th>    <th>0.975]</th>  \n",
       "</tr>\n",
       "<tr>\n",
       "  <th>Intercept</th>        <td>  551.6269</td> <td>    4.565</td> <td>  120.843</td> <td> 0.000</td> <td>  542.680</td> <td>  560.574</td>\n",
       "</tr>\n",
       "<tr>\n",
       "  <th>channel[T.Phone]</th> <td> -294.4489</td> <td>    4.200</td> <td>  -70.102</td> <td> 0.000</td> <td> -302.682</td> <td> -286.216</td>\n",
       "</tr>\n",
       "<tr>\n",
       "  <th>channel[T.Web]</th>   <td> -292.9166</td> <td>    4.194</td> <td>  -69.845</td> <td> 0.000</td> <td> -301.137</td> <td> -284.696</td>\n",
       "</tr>\n",
       "<tr>\n",
       "  <th>treatment</th>        <td>   55.3422</td> <td>    2.614</td> <td>   21.169</td> <td> 0.000</td> <td>   50.218</td> <td>   60.466</td>\n",
       "</tr>\n",
       "<tr>\n",
       "  <th>recency</th>          <td>  -13.4940</td> <td>    0.372</td> <td>  -36.314</td> <td> 0.000</td> <td>  -14.222</td> <td>  -12.766</td>\n",
       "</tr>\n",
       "</table>"
      ],
      "text/plain": [
       "<class 'statsmodels.iolib.table.SimpleTable'>"
      ]
     },
     "execution_count": 27,
     "metadata": {},
     "output_type": "execute_result"
    }
   ],
   "source": [
    "reg_c.summary().tables[1]"
   ]
  },
  {
   "cell_type": "code",
   "execution_count": 31,
   "id": "3ebe8491-cee9-47d8-b3c5-0efa52bc8ebd",
   "metadata": {},
   "outputs": [],
   "source": [
    "gamma_1 = 55.3422  # モデルCの treatment の coeffficient\n",
    "beta_1 = 0.7711  # モデルBの treatment の coeffficient\n",
    "beta_4 = 0.0013  # モデルBの history の coeffficient\n",
    "alpha_1 = 0.8425  # モデルAの treatment の coeffficient"
   ]
  },
  {
   "cell_type": "code",
   "execution_count": 32,
   "id": "16b1fa5b-46b4-4ae1-abf9-a2cadc6afdf2",
   "metadata": {},
   "outputs": [
    {
     "data": {
      "text/plain": [
       "0.07194486"
      ]
     },
     "execution_count": 32,
     "metadata": {},
     "output_type": "execute_result"
    }
   ],
   "source": [
    "ovb = gamma_1 * beta_4\n",
    "ovb"
   ]
  },
  {
   "cell_type": "code",
   "execution_count": 34,
   "id": "ed53f743-4cfd-4d44-9b9b-f22964b2f69d",
   "metadata": {},
   "outputs": [
    {
     "data": {
      "text/plain": [
       "0.07140000000000002"
      ]
     },
     "execution_count": 34,
     "metadata": {},
     "output_type": "execute_result"
    }
   ],
   "source": [
    "# OVBを含まない場合 (モデルB) と含む場合 (モデルA) の treatment の coeffficient の差\n",
    "coef_gap = alpha_1 - beta_1\n",
    "coef_gap"
   ]
  },
  {
   "cell_type": "markdown",
   "id": "442513a9-7e64-4c56-bf2f-0e3e19e0f579",
   "metadata": {},
   "source": [
    "- 上記より、推定される効果の差がOVBの式の結果と一致することがわかった\n",
    "- つまり、共変量を追加することで推定される効果の値に変化が生じるのは、共変量を追加したことによってOVBが消失したことに由来していることがわかる"
   ]
  },
  {
   "cell_type": "markdown",
   "id": "f8c7f1c6-34a4-459a-a15d-6fbc0d4e46ad",
   "metadata": {},
   "source": [
    "# 2.2.7 Post treatment bias"
   ]
  },
  {
   "cell_type": "markdown",
   "id": "dd4ceb9f-d65c-4363-9c90-22ca4041a475",
   "metadata": {},
   "source": [
    "treatmentに対して、共変量(channel, recency, history)の影響を取り除いた状態での相関が 0.1588 という値が有意な結果として得られる"
   ]
  },
  {
   "cell_type": "code",
   "execution_count": 5,
   "id": "6ffa6f76-bcbf-405e-8be5-f4ebd68fba7f",
   "metadata": {},
   "outputs": [],
   "source": [
    "reg = smf.ols(\n",
    "    data=data_biased,\n",
    "    formula=\"treatment ~  visit + channel + recency + history\"\n",
    ").fit()"
   ]
  },
  {
   "cell_type": "code",
   "execution_count": 6,
   "id": "9791a892-6080-443c-a9da-e586614a0a61",
   "metadata": {},
   "outputs": [
    {
     "data": {
      "text/html": [
       "<table class=\"simpletable\">\n",
       "<tr>\n",
       "          <td></td>            <th>coef</th>     <th>std err</th>      <th>t</th>      <th>P>|t|</th>  <th>[0.025</th>    <th>0.975]</th>  \n",
       "</tr>\n",
       "<tr>\n",
       "  <th>Intercept</th>        <td>    0.6074</td> <td>    0.011</td> <td>   54.413</td> <td> 0.000</td> <td>    0.586</td> <td>    0.629</td>\n",
       "</tr>\n",
       "<tr>\n",
       "  <th>channel[T.Phone]</th> <td>   -0.1069</td> <td>    0.010</td> <td>  -11.240</td> <td> 0.000</td> <td>   -0.125</td> <td>   -0.088</td>\n",
       "</tr>\n",
       "<tr>\n",
       "  <th>channel[T.Web]</th>   <td>   -0.1105</td> <td>    0.009</td> <td>  -11.644</td> <td> 0.000</td> <td>   -0.129</td> <td>   -0.092</td>\n",
       "</tr>\n",
       "<tr>\n",
       "  <th>visit</th>            <td>    0.1588</td> <td>    0.008</td> <td>   20.615</td> <td> 0.000</td> <td>    0.144</td> <td>    0.174</td>\n",
       "</tr>\n",
       "<tr>\n",
       "  <th>recency</th>          <td>   -0.0187</td> <td>    0.001</td> <td>  -23.554</td> <td> 0.000</td> <td>   -0.020</td> <td>   -0.017</td>\n",
       "</tr>\n",
       "<tr>\n",
       "  <th>history</th>          <td>    0.0002</td> <td> 1.17e-05</td> <td>   20.039</td> <td> 0.000</td> <td>    0.000</td> <td>    0.000</td>\n",
       "</tr>\n",
       "</table>"
      ],
      "text/plain": [
       "<class 'statsmodels.iolib.table.SimpleTable'>"
      ]
     },
     "execution_count": 6,
     "metadata": {},
     "output_type": "execute_result"
    }
   ],
   "source": [
    "reg.summary().tables[1]"
   ]
  },
  {
   "cell_type": "markdown",
   "id": "51e4dabe-10b9-426a-a92d-22f7de7d563d",
   "metadata": {},
   "source": [
    "回帰モデルに visit を追加すると、 メール配信の効果は 0.1585 へと大きく低下し、実験結果と乖離する"
   ]
  },
  {
   "cell_type": "code",
   "execution_count": 7,
   "id": "90d0a2ac-fbcd-44ef-a2a5-8426bfbb4288",
   "metadata": {},
   "outputs": [
    {
     "data": {
      "text/html": [
       "<table class=\"simpletable\">\n",
       "<tr>\n",
       "          <td></td>            <th>coef</th>     <th>std err</th>      <th>t</th>      <th>P>|t|</th>  <th>[0.025</th>    <th>0.975]</th>  \n",
       "</tr>\n",
       "<tr>\n",
       "  <th>Intercept</th>        <td>   -0.4448</td> <td>    0.373</td> <td>   -1.193</td> <td> 0.233</td> <td>   -1.176</td> <td>    0.286</td>\n",
       "</tr>\n",
       "<tr>\n",
       "  <th>channel[T.Phone]</th> <td>    0.2759</td> <td>    0.304</td> <td>    0.907</td> <td> 0.365</td> <td>   -0.321</td> <td>    0.872</td>\n",
       "</tr>\n",
       "<tr>\n",
       "  <th>channel[T.Web]</th>   <td>    0.2476</td> <td>    0.304</td> <td>    0.815</td> <td> 0.415</td> <td>   -0.348</td> <td>    0.843</td>\n",
       "</tr>\n",
       "<tr>\n",
       "  <th>treatment</th>        <td>    0.1585</td> <td>    0.179</td> <td>    0.887</td> <td> 0.375</td> <td>   -0.192</td> <td>    0.509</td>\n",
       "</tr>\n",
       "<tr>\n",
       "  <th>recency</th>          <td>   -0.0065</td> <td>    0.026</td> <td>   -0.252</td> <td> 0.801</td> <td>   -0.057</td> <td>    0.044</td>\n",
       "</tr>\n",
       "<tr>\n",
       "  <th>history</th>          <td>    0.0008</td> <td>    0.000</td> <td>    2.032</td> <td> 0.042</td> <td> 2.71e-05</td> <td>    0.002</td>\n",
       "</tr>\n",
       "<tr>\n",
       "  <th>visit</th>            <td>    7.4120</td> <td>    0.248</td> <td>   29.923</td> <td> 0.000</td> <td>    6.927</td> <td>    7.898</td>\n",
       "</tr>\n",
       "</table>"
      ],
      "text/plain": [
       "<class 'statsmodels.iolib.table.SimpleTable'>"
      ]
     },
     "execution_count": 7,
     "metadata": {},
     "output_type": "execute_result"
    }
   ],
   "source": [
    "reg = smf.ols(\n",
    "    data=data_biased,\n",
    "    formula=\"spend ~  treatment + channel + recency + history + visit\"\n",
    ").fit()\n",
    "reg.summary().tables[1]"
   ]
  },
  {
   "cell_type": "code",
   "execution_count": null,
   "id": "18299581-5b9b-42cb-9e65-99a5bd6124ec",
   "metadata": {},
   "outputs": [],
   "source": []
  }
 ],
 "metadata": {
  "kernelspec": {
   "display_name": "Python 3 (ipykernel)",
   "language": "python",
   "name": "python3"
  },
  "language_info": {
   "codemirror_mode": {
    "name": "ipython",
    "version": 3
   },
   "file_extension": ".py",
   "mimetype": "text/x-python",
   "name": "python",
   "nbconvert_exporter": "python",
   "pygments_lexer": "ipython3",
   "version": "3.10.0"
  }
 },
 "nbformat": 4,
 "nbformat_minor": 5
}
