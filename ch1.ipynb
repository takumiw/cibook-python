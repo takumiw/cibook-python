{
 "cells": [
  {
   "cell_type": "markdown",
   "id": "ade6aec9-d231-4442-8eee-56773b2acbcb",
   "metadata": {},
   "source": [
    "# 1.4.2 RCTデータの集計と有意差検定"
   ]
  },
  {
   "cell_type": "code",
   "execution_count": 35,
   "id": "1a74ec4c-d734-49da-9aca-83dd536212f2",
   "metadata": {},
   "outputs": [],
   "source": [
    "import random\n",
    "\n",
    "import numpy as np\n",
    "import pandas as pd"
   ]
  },
  {
   "cell_type": "markdown",
   "id": "fae34ea8-317f-4a4c-b155-67ee34fe7b1f",
   "metadata": {},
   "source": [
    "## データの準備"
   ]
  },
  {
   "cell_type": "code",
   "execution_count": 3,
   "id": "aee0ec6d-2fce-4022-82ab-86073db4a672",
   "metadata": {},
   "outputs": [
    {
     "data": {
      "text/plain": [
       "(42613, 13)"
      ]
     },
     "execution_count": 3,
     "metadata": {},
     "output_type": "execute_result"
    }
   ],
   "source": [
    "data = pd.read_csv(\"data_cibook.csv\")\n",
    "data.shape"
   ]
  },
  {
   "cell_type": "code",
   "execution_count": 4,
   "id": "dea4646d-d983-4db4-9249-ced614d5cd28",
   "metadata": {},
   "outputs": [
    {
     "data": {
      "text/html": [
       "<div>\n",
       "<style scoped>\n",
       "    .dataframe tbody tr th:only-of-type {\n",
       "        vertical-align: middle;\n",
       "    }\n",
       "\n",
       "    .dataframe tbody tr th {\n",
       "        vertical-align: top;\n",
       "    }\n",
       "\n",
       "    .dataframe thead th {\n",
       "        text-align: right;\n",
       "    }\n",
       "</style>\n",
       "<table border=\"1\" class=\"dataframe\">\n",
       "  <thead>\n",
       "    <tr style=\"text-align: right;\">\n",
       "      <th></th>\n",
       "      <th>recency</th>\n",
       "      <th>history_segment</th>\n",
       "      <th>history</th>\n",
       "      <th>mens</th>\n",
       "      <th>womens</th>\n",
       "      <th>zip_code</th>\n",
       "      <th>newbie</th>\n",
       "      <th>channel</th>\n",
       "      <th>segment</th>\n",
       "      <th>visit</th>\n",
       "      <th>conversion</th>\n",
       "      <th>spend</th>\n",
       "      <th>treatment</th>\n",
       "    </tr>\n",
       "  </thead>\n",
       "  <tbody>\n",
       "    <tr>\n",
       "      <th>0</th>\n",
       "      <td>6</td>\n",
       "      <td>3) $200 - $350</td>\n",
       "      <td>329.08</td>\n",
       "      <td>1</td>\n",
       "      <td>1</td>\n",
       "      <td>Rural</td>\n",
       "      <td>1</td>\n",
       "      <td>Web</td>\n",
       "      <td>No E-Mail</td>\n",
       "      <td>0</td>\n",
       "      <td>0</td>\n",
       "      <td>0.0</td>\n",
       "      <td>0</td>\n",
       "    </tr>\n",
       "    <tr>\n",
       "      <th>1</th>\n",
       "      <td>9</td>\n",
       "      <td>5) $500 - $750</td>\n",
       "      <td>675.83</td>\n",
       "      <td>1</td>\n",
       "      <td>0</td>\n",
       "      <td>Rural</td>\n",
       "      <td>1</td>\n",
       "      <td>Web</td>\n",
       "      <td>Mens E-Mail</td>\n",
       "      <td>0</td>\n",
       "      <td>0</td>\n",
       "      <td>0.0</td>\n",
       "      <td>1</td>\n",
       "    </tr>\n",
       "    <tr>\n",
       "      <th>2</th>\n",
       "      <td>9</td>\n",
       "      <td>5) $500 - $750</td>\n",
       "      <td>675.07</td>\n",
       "      <td>1</td>\n",
       "      <td>1</td>\n",
       "      <td>Rural</td>\n",
       "      <td>1</td>\n",
       "      <td>Phone</td>\n",
       "      <td>Mens E-Mail</td>\n",
       "      <td>0</td>\n",
       "      <td>0</td>\n",
       "      <td>0.0</td>\n",
       "      <td>1</td>\n",
       "    </tr>\n",
       "  </tbody>\n",
       "</table>\n",
       "</div>"
      ],
      "text/plain": [
       "   recency history_segment  history  mens  womens zip_code  newbie channel  \\\n",
       "0        6  3) $200 - $350   329.08     1       1    Rural       1     Web   \n",
       "1        9  5) $500 - $750   675.83     1       0    Rural       1     Web   \n",
       "2        9  5) $500 - $750   675.07     1       1    Rural       1   Phone   \n",
       "\n",
       "       segment  visit  conversion  spend  treatment  \n",
       "0    No E-Mail      0           0    0.0          0  \n",
       "1  Mens E-Mail      0           0    0.0          1  \n",
       "2  Mens E-Mail      0           0    0.0          1  "
      ]
     },
     "execution_count": 4,
     "metadata": {},
     "output_type": "execute_result"
    }
   ],
   "source": [
    "data.head(3)"
   ]
  },
  {
   "cell_type": "markdown",
   "id": "7516bff3-572d-413b-aff2-212cc30bd0e8",
   "metadata": {},
   "source": [
    "## 集計"
   ]
  },
  {
   "cell_type": "code",
   "execution_count": 5,
   "id": "ead4a36e-c184-43c8-b950-d76b51b1d5d5",
   "metadata": {},
   "outputs": [
    {
     "data": {
      "text/html": [
       "<div>\n",
       "<style scoped>\n",
       "    .dataframe tbody tr th:only-of-type {\n",
       "        vertical-align: middle;\n",
       "    }\n",
       "\n",
       "    .dataframe tbody tr th {\n",
       "        vertical-align: top;\n",
       "    }\n",
       "\n",
       "    .dataframe thead th {\n",
       "        text-align: right;\n",
       "    }\n",
       "</style>\n",
       "<table border=\"1\" class=\"dataframe\">\n",
       "  <thead>\n",
       "    <tr style=\"text-align: right;\">\n",
       "      <th></th>\n",
       "      <th>conversion</th>\n",
       "      <th>spend</th>\n",
       "    </tr>\n",
       "    <tr>\n",
       "      <th>treatment</th>\n",
       "      <th></th>\n",
       "      <th></th>\n",
       "    </tr>\n",
       "  </thead>\n",
       "  <tbody>\n",
       "    <tr>\n",
       "      <th>0</th>\n",
       "      <td>0.005726</td>\n",
       "      <td>0.652789</td>\n",
       "    </tr>\n",
       "    <tr>\n",
       "      <th>1</th>\n",
       "      <td>0.012531</td>\n",
       "      <td>1.422617</td>\n",
       "    </tr>\n",
       "  </tbody>\n",
       "</table>\n",
       "</div>"
      ],
      "text/plain": [
       "           conversion     spend\n",
       "treatment                      \n",
       "0            0.005726  0.652789\n",
       "1            0.012531  1.422617"
      ]
     },
     "execution_count": 5,
     "metadata": {},
     "output_type": "execute_result"
    }
   ],
   "source": [
    "# 介入群とコントロール群での、購入の発生確率と購入額の平均\n",
    "data.groupby(\"treatment\")[[\"conversion\", \"spend\"]].mean()"
   ]
  },
  {
   "cell_type": "markdown",
   "id": "f95d37de-5095-41f1-8ecf-7078ef52e6e8",
   "metadata": {},
   "source": [
    "## 有意差検定"
   ]
  },
  {
   "cell_type": "code",
   "execution_count": 6,
   "id": "12294d13-deaa-40fa-81f9-774b8d6a6639",
   "metadata": {},
   "outputs": [],
   "source": [
    "from scipy import stats"
   ]
  },
  {
   "cell_type": "markdown",
   "id": "efdfe38c-0c6d-41fe-8416-e27915f1243e",
   "metadata": {},
   "source": [
    "### t検定"
   ]
  },
  {
   "cell_type": "code",
   "execution_count": 8,
   "id": "0630e199-17b7-48a6-8ddb-fe50bf02e197",
   "metadata": {},
   "outputs": [
    {
     "data": {
      "text/plain": [
       "Ttest_indResult(statistic=5.300090294465472, pvalue=1.163200872605869e-07)"
      ]
     },
     "execution_count": 8,
     "metadata": {},
     "output_type": "execute_result"
    }
   ],
   "source": [
    "# 介入群 (男性向けメールを配信) とコントロール群 (メールの配信なし) 購入額の平均の差に対して、t検定を実行する\n",
    "data_mail = data.query(\"treatment == 1\")\n",
    "data_control = data.query(\"treatment == 0\")\n",
    "stats.ttest_ind(data_mail.spend, data_control.spend)"
   ]
  },
  {
   "cell_type": "markdown",
   "id": "343fa400-cc93-4e29-8da2-ba038ca1eda3",
   "metadata": {},
   "source": [
    "### 信頼区間"
   ]
  },
  {
   "cell_type": "code",
   "execution_count": 26,
   "id": "9f82cb79-58e5-4b98-9fa9-6d1f1e3694bc",
   "metadata": {
    "tags": []
   },
   "outputs": [
    {
     "data": {
      "text/plain": [
       "224.7512083489742"
      ]
     },
     "execution_count": 26,
     "metadata": {},
     "output_type": "execute_result"
    }
   ],
   "source": [
    "# サンプルサイズ\n",
    "n = data_control.shape[0]\n",
    "m = data_mail.shape[0]\n",
    "\n",
    "# グループ間の差の分散\n",
    "V = (((data_control.spend - data_control.spend.mean()) ** 2).sum() \\\n",
    "    + ((data_mail.spend - data_mail.spend.mean()) ** 2).sum()) \\\n",
    "     / (n + m - 2)\n",
    "V"
   ]
  },
  {
   "cell_type": "code",
   "execution_count": 30,
   "id": "276ecdb0-3718-4214-86bb-5f81360df108",
   "metadata": {
    "tags": []
   },
   "outputs": [
    {
     "data": {
      "text/plain": [
       "0.14524793222832738"
      ]
     },
     "execution_count": 30,
     "metadata": {},
     "output_type": "execute_result"
    }
   ],
   "source": [
    "# グループ間の平均の差の標準誤差\n",
    "SE = np.sqrt((V / m) + (V / n))\n",
    "SE"
   ]
  },
  {
   "cell_type": "code",
   "execution_count": 31,
   "id": "21ffce1f-13a0-452e-bc9e-68fce998ddef",
   "metadata": {},
   "outputs": [
    {
     "data": {
      "text/plain": [
       "0.7698271558945367"
      ]
     },
     "execution_count": 31,
     "metadata": {},
     "output_type": "execute_result"
    }
   ],
   "source": [
    "# 推定値\n",
    "est = data_mail.spend.mean() - data_control.spend.mean()\n",
    "est"
   ]
  },
  {
   "cell_type": "code",
   "execution_count": 32,
   "id": "c78237fb-9fc2-4b51-bc82-925335388bff",
   "metadata": {},
   "outputs": [
    {
     "data": {
      "text/plain": [
       "(0.485141208727015, 1.0545131030620583)"
      ]
     },
     "execution_count": 32,
     "metadata": {},
     "output_type": "execute_result"
    }
   ],
   "source": [
    "# 95%信頼区間\n",
    "est - 1.96 * SE, est + 1.96 * SE"
   ]
  },
  {
   "cell_type": "markdown",
   "id": "8127f590-c7b0-440e-96f5-5ca774607f0b",
   "metadata": {},
   "source": [
    "# 1.4.3 バイアスのあるデータによる効果の検証"
   ]
  },
  {
   "cell_type": "markdown",
   "id": "4c2cfde9-ec1c-4308-9a5e-9f3081489ac8",
   "metadata": {},
   "source": [
    "## バイアスのあるデータの準備\n",
    "- メールが配信されていないグループでは、以下の条件のいずれかに該当するデータをランダムに半分選んで削除\n",
    "- メールが配信されるグループでは、以下の条件のいずれにも該当しないデータをランダムに半分選んで削除\n",
    "    - 昨年の購入額 (history) が300より高い\n",
    "    - 最後の購入からの経過時間 (recency) が3未満\n",
    "    - 接触チャネル (channel) が複数ある (Multichannel)"
   ]
  },
  {
   "cell_type": "code",
   "execution_count": 62,
   "id": "405e4282-0d06-4ede-86c7-ead7e7fcedb1",
   "metadata": {},
   "outputs": [
    {
     "data": {
      "text/plain": [
       "(21307, 14)"
      ]
     },
     "execution_count": 62,
     "metadata": {},
     "output_type": "execute_result"
    }
   ],
   "source": [
    "data_mail_biased = data_mail.copy(deep=True)\n",
    "data_mail_biased[\"remove\"] = 0\n",
    "data_mail_biased.shape"
   ]
  },
  {
   "cell_type": "code",
   "execution_count": 63,
   "id": "762b21b8-a746-4a09-a5e7-71ff3c992ecf",
   "metadata": {},
   "outputs": [],
   "source": [
    "# ランダムに半分選ぶ\n",
    "random.seed(0)\n",
    "data_mail_biased.loc[data_mail_biased.query(\"history <= 300 and recency >= 3 and channel != 'Multichannel'\").index, \"remove\"] = \\\n",
    "    data_mail_biased.query(\"history <= 300 and recency >= 3 and channel != 'Multichannel'\").remove.apply(lambda x: random.choice([0, 1]))"
   ]
  },
  {
   "cell_type": "code",
   "execution_count": 64,
   "id": "85e4c1b0-0684-4317-bb3a-746bbab994d7",
   "metadata": {},
   "outputs": [
    {
     "data": {
      "text/plain": [
       "0.4986746472851646"
      ]
     },
     "execution_count": 64,
     "metadata": {},
     "output_type": "execute_result"
    }
   ],
   "source": [
    "# 半分選ばれていることを確認\n",
    "data_mail_biased.query(\"history <= 300 and recency >= 3 and channel != 'Multichannel'\").remove.mean()"
   ]
  },
  {
   "cell_type": "code",
   "execution_count": 65,
   "id": "28e256dc-4cec-4fe2-b213-3a66ff22a7af",
   "metadata": {},
   "outputs": [
    {
     "data": {
      "text/plain": [
       "(15475, 13)"
      ]
     },
     "execution_count": 65,
     "metadata": {},
     "output_type": "execute_result"
    }
   ],
   "source": [
    "# 該当データを半分削除\n",
    "data_mail_biased = data_mail_biased.query(\"remove == 0\")\n",
    "data_mail_biased.drop(\"remove\", axis=1, inplace=True)\n",
    "data_mail_biased.reset_index(drop=True, inplace=True)\n",
    "data_mail_biased.shape"
   ]
  },
  {
   "cell_type": "code",
   "execution_count": 66,
   "id": "a34f3760-e5b4-4a37-bbff-14966bd2e26a",
   "metadata": {},
   "outputs": [
    {
     "data": {
      "text/plain": [
       "(21306, 14)"
      ]
     },
     "execution_count": 66,
     "metadata": {},
     "output_type": "execute_result"
    }
   ],
   "source": [
    "data_control_biased = data_control.copy(deep=True)\n",
    "data_control_biased[\"remove\"] = 0\n",
    "data_control_biased.shape"
   ]
  },
  {
   "cell_type": "code",
   "execution_count": 67,
   "id": "4c59209c-713d-4901-8cdb-c508c8b5fc93",
   "metadata": {},
   "outputs": [],
   "source": [
    "# ランダムに半分選ぶ\n",
    "random.seed(0)\n",
    "data_control_biased.loc[data_control_biased.query(\"history > 300 or recency < 3 or channel == 'Multichannel'\").index, \"remove\"] = \\\n",
    "    data_control_biased.query(\"history > 300 or recency < 3 or channel == 'Multichannel'\").remove.apply(lambda x: random.choice([0, 1]))"
   ]
  },
  {
   "cell_type": "code",
   "execution_count": 68,
   "id": "9a2c2741-97dc-42bd-915c-6bd9f66e421c",
   "metadata": {},
   "outputs": [
    {
     "data": {
      "text/plain": [
       "0.49824271242505686"
      ]
     },
     "execution_count": 68,
     "metadata": {},
     "output_type": "execute_result"
    }
   ],
   "source": [
    "# 半分選ばれていることを確認\n",
    "data_control_biased.query(\"history > 300 or recency < 3 or channel == 'Multichannel'\").remove.mean()"
   ]
  },
  {
   "cell_type": "code",
   "execution_count": 69,
   "id": "8e9945d4-8d37-4fed-af90-558cab7b692c",
   "metadata": {},
   "outputs": [
    {
     "data": {
      "text/plain": [
       "(16486, 13)"
      ]
     },
     "execution_count": 69,
     "metadata": {},
     "output_type": "execute_result"
    }
   ],
   "source": [
    "# 該当データを半分削除\n",
    "data_control_biased = data_control_biased.query(\"remove == 0\")\n",
    "data_control_biased.drop(\"remove\", axis=1, inplace=True)\n",
    "data_control_biased.reset_index(drop=True, inplace=True)\n",
    "data_control_biased.shape"
   ]
  },
  {
   "cell_type": "markdown",
   "id": "79a78d94-a3b2-43a2-b971-7d83c2603c09",
   "metadata": {},
   "source": [
    "## 集計"
   ]
  },
  {
   "cell_type": "code",
   "execution_count": 70,
   "id": "0da611fb-8a6e-4e76-810d-f837bdb3525f",
   "metadata": {},
   "outputs": [
    {
     "data": {
      "text/html": [
       "<div>\n",
       "<style scoped>\n",
       "    .dataframe tbody tr th:only-of-type {\n",
       "        vertical-align: middle;\n",
       "    }\n",
       "\n",
       "    .dataframe tbody tr th {\n",
       "        vertical-align: top;\n",
       "    }\n",
       "\n",
       "    .dataframe thead th {\n",
       "        text-align: right;\n",
       "    }\n",
       "</style>\n",
       "<table border=\"1\" class=\"dataframe\">\n",
       "  <thead>\n",
       "    <tr style=\"text-align: right;\">\n",
       "      <th></th>\n",
       "      <th>conversion</th>\n",
       "      <th>spend</th>\n",
       "    </tr>\n",
       "    <tr>\n",
       "      <th>treatment</th>\n",
       "      <th></th>\n",
       "      <th></th>\n",
       "    </tr>\n",
       "  </thead>\n",
       "  <tbody>\n",
       "    <tr>\n",
       "      <th>0</th>\n",
       "      <td>0.005217</td>\n",
       "      <td>0.633393</td>\n",
       "    </tr>\n",
       "    <tr>\n",
       "      <th>1</th>\n",
       "      <td>0.013829</td>\n",
       "      <td>1.571542</td>\n",
       "    </tr>\n",
       "  </tbody>\n",
       "</table>\n",
       "</div>"
      ],
      "text/plain": [
       "           conversion     spend\n",
       "treatment                      \n",
       "0            0.005217  0.633393\n",
       "1            0.013829  1.571542"
      ]
     },
     "execution_count": 70,
     "metadata": {},
     "output_type": "execute_result"
    }
   ],
   "source": [
    "# 介入群とコントロール群での、購入の発生確率と購入額の平均\n",
    "data_biased = pd.concat([data_control_biased, data_mail_biased])\n",
    "data_biased.groupby(\"treatment\")[[\"conversion\", \"spend\"]].mean()"
   ]
  },
  {
   "cell_type": "markdown",
   "id": "62ede48b-9ee5-43d1-9bc7-e093add85655",
   "metadata": {},
   "source": [
    "## 有意差検定"
   ]
  },
  {
   "cell_type": "markdown",
   "id": "1c83ab02-8fe4-49a5-9481-d4a97a8cc398",
   "metadata": {},
   "source": [
    "### t検定"
   ]
  },
  {
   "cell_type": "code",
   "execution_count": 71,
   "id": "af256108-9928-4064-83b2-75bad5ad5848",
   "metadata": {},
   "outputs": [
    {
     "data": {
      "text/plain": [
       "Ttest_indResult(statistic=5.371979697245043, pvalue=7.842046369724741e-08)"
      ]
     },
     "execution_count": 71,
     "metadata": {},
     "output_type": "execute_result"
    }
   ],
   "source": [
    "# 介入群 (男性向けメールを配信) とコントロール群 (メールの配信なし) 購入額の平均の差に対して、t検定を実行する\n",
    "stats.ttest_ind(data_mail_biased.spend, data_control_biased.spend)"
   ]
  },
  {
   "cell_type": "markdown",
   "id": "2e54ef89-52a2-409c-94fe-e31937451842",
   "metadata": {},
   "source": [
    "### 信頼区間"
   ]
  },
  {
   "cell_type": "code",
   "execution_count": 72,
   "id": "ed24f45d-89a9-443e-b9b7-603c6b5efd16",
   "metadata": {},
   "outputs": [
    {
     "data": {
      "text/plain": [
       "243.4449622599646"
      ]
     },
     "execution_count": 72,
     "metadata": {},
     "output_type": "execute_result"
    }
   ],
   "source": [
    "# サンプルサイズ\n",
    "n = data_control_biased.shape[0]\n",
    "m = data_mail_biased.shape[0]\n",
    "\n",
    "# グループ間の差の分散\n",
    "V = (((data_control_biased.spend - data_control_biased.spend.mean()) ** 2).sum() \\\n",
    "    + ((data_mail_biased.spend - data_mail_biased.spend.mean()) ** 2).sum()) \\\n",
    "     / (n + m - 2)\n",
    "V"
   ]
  },
  {
   "cell_type": "code",
   "execution_count": 73,
   "id": "44f40f0d-636e-4813-afc0-6e468db55a87",
   "metadata": {},
   "outputs": [
    {
     "data": {
      "text/plain": [
       "0.1746375374930967"
      ]
     },
     "execution_count": 73,
     "metadata": {},
     "output_type": "execute_result"
    }
   ],
   "source": [
    "# グループ間の平均の差の標準誤差\n",
    "SE = np.sqrt((V / m) + (V / n))\n",
    "SE"
   ]
  },
  {
   "cell_type": "code",
   "execution_count": 74,
   "id": "60f14dd4-8119-412a-86fb-1c154631561b",
   "metadata": {},
   "outputs": [
    {
     "data": {
      "text/plain": [
       "0.9381493057897854"
      ]
     },
     "execution_count": 74,
     "metadata": {},
     "output_type": "execute_result"
    }
   ],
   "source": [
    "# 推定値\n",
    "est = data_mail_biased.spend.mean() - data_control_biased.spend.mean()\n",
    "est"
   ]
  },
  {
   "cell_type": "code",
   "execution_count": 75,
   "id": "8f8d3c86-5e2c-4f06-9e13-ef6badc1f307",
   "metadata": {},
   "outputs": [
    {
     "data": {
      "text/plain": [
       "(0.5958597323033159, 1.2804388792762549)"
      ]
     },
     "execution_count": 75,
     "metadata": {},
     "output_type": "execute_result"
    }
   ],
   "source": [
    "# 95%信頼区間\n",
    "est - 1.96 * SE, est + 1.96 * SE"
   ]
  },
  {
   "cell_type": "code",
   "execution_count": null,
   "id": "d9cb1fe6-0564-4b42-8b31-eae44b3f291f",
   "metadata": {},
   "outputs": [],
   "source": []
  }
 ],
 "metadata": {
  "kernelspec": {
   "display_name": "Python 3 (ipykernel)",
   "language": "python",
   "name": "python3"
  },
  "language_info": {
   "codemirror_mode": {
    "name": "ipython",
    "version": 3
   },
   "file_extension": ".py",
   "mimetype": "text/x-python",
   "name": "python",
   "nbconvert_exporter": "python",
   "pygments_lexer": "ipython3",
   "version": "3.10.0"
  }
 },
 "nbformat": 4,
 "nbformat_minor": 5
}
